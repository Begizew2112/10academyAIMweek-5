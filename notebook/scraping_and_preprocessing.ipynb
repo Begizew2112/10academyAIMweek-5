{
 "cells": [
  {
   "cell_type": "code",
   "execution_count": 1,
   "metadata": {},
   "outputs": [],
   "source": [
    "import pandas as pd\n",
    "import numpy as np"
   ]
  },
  {
   "cell_type": "code",
   "execution_count": null,
   "metadata": {},
   "outputs": [],
   "source": [
    "Set up your environment and install the necessary libraries"
   ]
  },
  {
   "cell_type": "code",
   "execution_count": 3,
   "metadata": {},
   "outputs": [
    {
     "name": "stdout",
     "output_type": "stream",
     "text": [
      "Requirement already satisfied: telethon in c:\\users\\yibabe\\desktop\\10academyaimweek-5\\env\\lib\\site-packages (1.37.0)\n",
      "Requirement already satisfied: pyaes in c:\\users\\yibabe\\desktop\\10academyaimweek-5\\env\\lib\\site-packages (from telethon) (1.6.1)\n",
      "Requirement already satisfied: rsa in c:\\users\\yibabe\\desktop\\10academyaimweek-5\\env\\lib\\site-packages (from telethon) (4.9)\n",
      "Requirement already satisfied: pyasn1>=0.1.3 in c:\\users\\yibabe\\desktop\\10academyaimweek-5\\env\\lib\\site-packages (from rsa->telethon) (0.6.1)\n"
     ]
    }
   ],
   "source": [
    "!pip install telethon\n"
   ]
  },
  {
   "cell_type": "code",
   "execution_count": null,
   "metadata": {},
   "outputs": [],
   "source": [
    " Import and authenticate with the Telegram API"
   ]
  },
  {
   "cell_type": "code",
   "execution_count": null,
   "metadata": {},
   "outputs": [
    {
     "name": "stderr",
     "output_type": "stream",
     "text": [
      "Server resent the older message 7418989737683752961, ignoring\n",
      "Telegram is having internal issues AuthRestartError: Restart the authorization process (caused by SendCodeRequest)\n",
      "Invalid password. Please try again\n"
     ]
    },
    {
     "name": "stdout",
     "output_type": "stream",
     "text": [
      "Signed in successfully as Yibabe Z; remember to not break the ToS or you will risk an account ban!\n",
      "Connected to Telegram\n"
     ]
    },
    {
     "name": "stderr",
     "output_type": "stream",
     "text": [
      "Server closed the connection: [WinError 10054] An existing connection was forcibly closed by the remote host\n",
      "Attempt 1 at connecting failed: OSError: [Errno 10051] Connect call failed ('149.154.167.91', 443)\n",
      "Attempt 2 at connecting failed: OSError: [Errno 10051] Connect call failed ('149.154.167.91', 443)\n",
      "Attempt 3 at connecting failed: OSError: [Errno 10051] Connect call failed ('149.154.167.91', 443)\n",
      "Attempt 4 at connecting failed: OSError: [Errno 10051] Connect call failed ('149.154.167.91', 443)\n",
      "Attempt 5 at connecting failed: OSError: [Errno 10051] Connect call failed ('149.154.167.91', 443)\n",
      "Attempt 6 at connecting failed: OSError: [Errno 10051] Connect call failed ('149.154.167.91', 443)\n",
      "Attempt 1 at connecting failed: OSError: [Errno 10051] Connect call failed ('149.154.167.91', 443)\n",
      "Attempt 2 at connecting failed: OSError: [Errno 10051] Connect call failed ('149.154.167.91', 443)\n",
      "Attempt 3 at connecting failed: OSError: [Errno 10051] Connect call failed ('149.154.167.91', 443)\n",
      "Attempt 4 at connecting failed: OSError: [Errno 10051] Connect call failed ('149.154.167.91', 443)\n",
      "Attempt 5 at connecting failed: OSError: [Errno 10051] Connect call failed ('149.154.167.91', 443)\n",
      "Attempt 6 at connecting failed: OSError: [Errno 10051] Connect call failed ('149.154.167.91', 443)\n",
      "Attempt 1 at connecting failed: OSError: [Errno 10051] Connect call failed ('149.154.167.91', 443)\n",
      "Attempt 2 at connecting failed: OSError: [Errno 10051] Connect call failed ('149.154.167.91', 443)\n",
      "Attempt 3 at connecting failed: OSError: [Errno 10051] Connect call failed ('149.154.167.91', 443)\n",
      "Attempt 4 at connecting failed: OSError: [Errno 10051] Connect call failed ('149.154.167.91', 443)\n",
      "Attempt 5 at connecting failed: OSError: [Errno 10051] Connect call failed ('149.154.167.91', 443)\n",
      "Attempt 6 at connecting failed: OSError: [Errno 10051] Connect call failed ('149.154.167.91', 443)\n",
      "Attempt 1 at connecting failed: OSError: [Errno 10051] Connect call failed ('149.154.167.91', 443)\n",
      "Attempt 2 at connecting failed: OSError: [Errno 10051] Connect call failed ('149.154.167.91', 443)\n",
      "Attempt 3 at connecting failed: OSError: [Errno 10051] Connect call failed ('149.154.167.91', 443)\n",
      "Attempt 4 at connecting failed: OSError: [Errno 10051] Connect call failed ('149.154.167.91', 443)\n",
      "Attempt 5 at connecting failed: OSError: [Errno 10051] Connect call failed ('149.154.167.91', 443)\n",
      "Attempt 6 at connecting failed: OSError: [Errno 10051] Connect call failed ('149.154.167.91', 443)\n",
      "Attempt 1 at connecting failed: OSError: [Errno 10051] Connect call failed ('149.154.167.91', 443)\n",
      "Attempt 2 at connecting failed: OSError: [Errno 10051] Connect call failed ('149.154.167.91', 443)\n",
      "Attempt 3 at connecting failed: OSError: [Errno 10051] Connect call failed ('149.154.167.91', 443)\n",
      "Attempt 4 at connecting failed: OSError: [Errno 10051] Connect call failed ('149.154.167.91', 443)\n",
      "Attempt 5 at connecting failed: OSError: [Errno 10051] Connect call failed ('149.154.167.91', 443)\n",
      "Attempt 6 at connecting failed: OSError: [Errno 10051] Connect call failed ('149.154.167.91', 443)\n",
      "Automatic reconnection failed 5 time(s)\n",
      "Future exception was never retrieved\n",
      "future: <Future finished exception=ConnectionError('Connection to Telegram failed 5 time(s)')>\n",
      "ConnectionError: Connection to Telegram failed 5 time(s)\n"
     ]
    }
   ],
   "source": [
    "from telethon.sync import TelegramClient\n",
    "\n",
    "# Replace these with your own values\n",
    "api_id = '29354999'\n",
    "api_hash = 'edc4bfe62ee519a3259bbdb92ba66aae'\n",
    "phone_number = '+251960627431'\n",
    "\n",
    "# Create the client and connect\n",
    "client = TelegramClient('session_name', api_id, api_hash)\n",
    "\n",
    "async def connect_telegram():\n",
    "    await client.start(phone_number)\n",
    "    print(\"Connected to Telegram\")\n",
    "\n",
    "await connect_telegram()\n"
   ]
  },
  {
   "cell_type": "code",
   "execution_count": null,
   "metadata": {},
   "outputs": [],
   "source": [
    "Access the channel and scrape messages and save to csv file"
   ]
  },
  {
   "cell_type": "code",
   "execution_count": 7,
   "metadata": {},
   "outputs": [
    {
     "name": "stdout",
     "output_type": "stream",
     "text": [
      "Scraping messages... Collected 0 so far.\n",
      "Scraping messages... Collected 100 so far.\n",
      "Scraping messages... Collected 200 so far.\n",
      "Scraping messages... Collected 300 so far.\n",
      "Scraping messages... Collected 400 so far.\n",
      "Scraping messages... Collected 500 so far.\n",
      "Scraping messages... Collected 600 so far.\n",
      "Scraping messages... Collected 700 so far.\n",
      "Scraping messages... Collected 800 so far.\n",
      "Scraping messages... Collected 900 so far.\n",
      "Scraping messages... Collected 1000 so far.\n",
      "Scraping messages... Collected 1100 so far.\n",
      "Scraping messages... Collected 1200 so far.\n",
      "Scraping messages... Collected 1300 so far.\n",
      "Scraping messages... Collected 1400 so far.\n",
      "Scraping messages... Collected 1500 so far.\n",
      "Scraping messages... Collected 1600 so far.\n",
      "Scraping messages... Collected 1700 so far.\n",
      "Scraping messages... Collected 1800 so far.\n",
      "Scraping messages... Collected 1900 so far.\n",
      "Scraping messages... Collected 2000 so far.\n",
      "Scraping messages... Collected 2100 so far.\n",
      "Scraping messages... Collected 2200 so far.\n",
      "Scraping messages... Collected 2300 so far.\n",
      "Scraping messages... Collected 2400 so far.\n",
      "Scraping messages... Collected 2500 so far.\n",
      "Scraping messages... Collected 2600 so far.\n",
      "Scraping messages... Collected 2700 so far.\n",
      "Scraping messages... Collected 2800 so far.\n",
      "Scraping messages... Collected 2900 so far.\n",
      "Scraping messages... Collected 3000 so far.\n",
      "Scraping messages... Collected 3100 so far.\n",
      "Scraping messages... Collected 3200 so far.\n",
      "Scraping messages... Collected 3300 so far.\n",
      "Scraping messages... Collected 3400 so far.\n",
      "Scraping messages... Collected 3500 so far.\n",
      "Scraping messages... Collected 3600 so far.\n",
      "Scraping messages... Collected 3700 so far.\n",
      "Scraping messages... Collected 3800 so far.\n",
      "Scraping messages... Collected 3900 so far.\n",
      "Scraping messages... Collected 4000 so far.\n",
      "Scraping messages... Collected 4100 so far.\n",
      "Scraping messages... Collected 4200 so far.\n",
      "Scraping messages... Collected 4300 so far.\n",
      "Scraping messages... Collected 4400 so far.\n",
      "Scraping messages... Collected 4500 so far.\n",
      "Scraping messages... Collected 4600 so far.\n",
      "Scraping messages... Collected 4700 so far.\n",
      "Scraping messages... Collected 4800 so far.\n",
      "Scraping messages... Collected 4900 so far.\n",
      "Scraping messages... Collected 5000 so far.\n",
      "Scraping messages... Collected 5100 so far.\n",
      "Scraping messages... Collected 5200 so far.\n",
      "Scraping messages... Collected 5300 so far.\n",
      "Scraping messages... Collected 5400 so far.\n",
      "Scraping messages... Collected 5500 so far.\n",
      "Scraping messages... Collected 5600 so far.\n",
      "Scraping messages... Collected 5700 so far.\n",
      "Scraping messages... Collected 5709 so far.\n",
      "Scraping complete. Data saved to 'telegram_channel_messages.csv'\n"
     ]
    }
   ],
   "source": [
    "import time\n",
    "import pandas as pd\n",
    "from telethon.tl.functions.messages import GetHistoryRequest\n",
    "from telethon.tl.types import PeerChannel\n",
    "\n",
    "async def scrape_channel_messages(channel_username, max_messages=10000, batch_size=100, sleep_time=2):\n",
    "    # Get the channel entity\n",
    "    channel = await client.get_entity(channel_username)\n",
    "    \n",
    "    # Variables for scraping\n",
    "    offset_id = 0\n",
    "    all_messages = []\n",
    "    \n",
    "    while len(all_messages) < max_messages:\n",
    "        print(f\"Scraping messages... Collected {len(all_messages)} so far.\")\n",
    "        \n",
    "        # Fetch the message history\n",
    "        history = await client(GetHistoryRequest(\n",
    "            peer=channel,\n",
    "            offset_id=offset_id,\n",
    "            offset_date=None,\n",
    "            add_offset=0,\n",
    "            limit=batch_size,\n",
    "            max_id=0,\n",
    "            min_id=0,\n",
    "            hash=0\n",
    "        ))\n",
    "        \n",
    "        # Break the loop if no more messages are returned\n",
    "        if not history.messages:\n",
    "            break\n",
    "        \n",
    "        # Add messages to the list\n",
    "        messages = history.messages\n",
    "        all_messages.extend(messages)\n",
    "        \n",
    "        # Update the offset_id to the last message's ID to avoid duplicates\n",
    "        offset_id = messages[-1].id\n",
    "        \n",
    "        # Sleep to respect Telegram's rate limit\n",
    "        time.sleep(sleep_time)\n",
    "    \n",
    "    # Limit the number of messages to max_messages\n",
    "    all_messages = all_messages[:max_messages]\n",
    "\n",
    "    # Prepare the data for CSV export\n",
    "    data = []\n",
    "    for msg in all_messages:\n",
    "        if msg.message:  # Only save non-empty messages\n",
    "            data.append({\n",
    "                'date': msg.date,\n",
    "                'sender_id': msg.sender_id,\n",
    "                'message': msg.message\n",
    "            })\n",
    "\n",
    "    # Convert to DataFrame and save to CSV\n",
    "    df = pd.DataFrame(data)\n",
    "    df.to_csv('telegram_channel_messages.csv', index=False)\n",
    "    print(\"Scraping complete. Data saved to 'telegram_channel_messages.csv'\")\n",
    "\n",
    "# Scrape up to 10,000 messages and save to CSV\n",
    "await scrape_channel_messages('@MerttEka', max_messages=10000, batch_size=100, sleep_time=0.1)\n"
   ]
  },
  {
   "cell_type": "code",
   "execution_count": 2,
   "metadata": {},
   "outputs": [],
   "source": [
    "import pandas as pd\n",
    "#load the csv file \n",
    "df = pd.read_csv(r'C:\\Users\\Yibabe\\Desktop\\10academyAIMweek-5\\notebook\\telegram_channel_messages.csv')"
   ]
  },
  {
   "cell_type": "code",
   "execution_count": 3,
   "metadata": {},
   "outputs": [
    {
     "data": {
      "text/html": [
       "<div>\n",
       "<style scoped>\n",
       "    .dataframe tbody tr th:only-of-type {\n",
       "        vertical-align: middle;\n",
       "    }\n",
       "\n",
       "    .dataframe tbody tr th {\n",
       "        vertical-align: top;\n",
       "    }\n",
       "\n",
       "    .dataframe thead th {\n",
       "        text-align: right;\n",
       "    }\n",
       "</style>\n",
       "<table border=\"1\" class=\"dataframe\">\n",
       "  <thead>\n",
       "    <tr style=\"text-align: right;\">\n",
       "      <th></th>\n",
       "      <th>date</th>\n",
       "      <th>sender_id</th>\n",
       "      <th>message</th>\n",
       "    </tr>\n",
       "  </thead>\n",
       "  <tbody>\n",
       "    <tr>\n",
       "      <th>0</th>\n",
       "      <td>2024-09-26 16:38:22+00:00</td>\n",
       "      <td>-1001370292088</td>\n",
       "      <td>📣 Car Aromatherapy Solar Vortex\\n\\n📎 ይሄንን👉 t.m...</td>\n",
       "    </tr>\n",
       "    <tr>\n",
       "      <th>1</th>\n",
       "      <td>2024-09-26 16:16:51+00:00</td>\n",
       "      <td>-1001370292088</td>\n",
       "      <td>📣 Car Aromatherapy Solar Vortex\\n\\n✔️ የመኪና መዓዛ...</td>\n",
       "    </tr>\n",
       "    <tr>\n",
       "      <th>2</th>\n",
       "      <td>2024-09-26 12:31:45+00:00</td>\n",
       "      <td>-1001370292088</td>\n",
       "      <td>🔠🔠🔠🔠 🔠🔠🔠🔠🔠\\n📣 GW HAIR DRYER/Blower\\n\\n✔️ የፀጉር ...</td>\n",
       "    </tr>\n",
       "    <tr>\n",
       "      <th>3</th>\n",
       "      <td>2024-09-26 09:22:02+00:00</td>\n",
       "      <td>-1001370292088</td>\n",
       "      <td>📣 2 in 1 Porcelain  Dessert Bowel\\n\\n✔️ የሰላጣ እ...</td>\n",
       "    </tr>\n",
       "    <tr>\n",
       "      <th>4</th>\n",
       "      <td>2024-09-26 08:31:44+00:00</td>\n",
       "      <td>-1001370292088</td>\n",
       "      <td>📣 Plastic And Metal Cubic Cloth Cabinet\\n\\n✔️ ...</td>\n",
       "    </tr>\n",
       "    <tr>\n",
       "      <th>...</th>\n",
       "      <td>...</td>\n",
       "      <td>...</td>\n",
       "      <td>...</td>\n",
       "    </tr>\n",
       "    <tr>\n",
       "      <th>4152</th>\n",
       "      <td>2019-11-13 10:01:12+00:00</td>\n",
       "      <td>-1001370292088</td>\n",
       "      <td>2500</td>\n",
       "    </tr>\n",
       "    <tr>\n",
       "      <th>4153</th>\n",
       "      <td>2019-11-13 10:00:40+00:00</td>\n",
       "      <td>-1001370292088</td>\n",
       "      <td>ዋጋ 2500\\n0983063957</td>\n",
       "    </tr>\n",
       "    <tr>\n",
       "      <th>4154</th>\n",
       "      <td>2019-11-09 04:44:54+00:00</td>\n",
       "      <td>-1001370292088</td>\n",
       "      <td>የሙያ ባለቤት መሆን መሠልጠን ነው።\\nቀለም ቀቢ ሳያስፈልግዎ ቤትዎን ወይ...</td>\n",
       "    </tr>\n",
       "    <tr>\n",
       "      <th>4155</th>\n",
       "      <td>2019-10-31 07:06:25+00:00</td>\n",
       "      <td>-1001370292088</td>\n",
       "      <td>ቤትና ግቢዎን እንዲሁም የብረት እና የእንጨት ቁሳቁስዎን ቀለም ቀቢ ሳያስ...</td>\n",
       "    </tr>\n",
       "    <tr>\n",
       "      <th>4156</th>\n",
       "      <td>2019-10-27 13:38:49+00:00</td>\n",
       "      <td>-1001370292088</td>\n",
       "      <td>ለማዘዝ\\n https://t.megojomewechiyaeka</td>\n",
       "    </tr>\n",
       "  </tbody>\n",
       "</table>\n",
       "<p>4157 rows × 3 columns</p>\n",
       "</div>"
      ],
      "text/plain": [
       "                           date      sender_id  \\\n",
       "0     2024-09-26 16:38:22+00:00 -1001370292088   \n",
       "1     2024-09-26 16:16:51+00:00 -1001370292088   \n",
       "2     2024-09-26 12:31:45+00:00 -1001370292088   \n",
       "3     2024-09-26 09:22:02+00:00 -1001370292088   \n",
       "4     2024-09-26 08:31:44+00:00 -1001370292088   \n",
       "...                         ...            ...   \n",
       "4152  2019-11-13 10:01:12+00:00 -1001370292088   \n",
       "4153  2019-11-13 10:00:40+00:00 -1001370292088   \n",
       "4154  2019-11-09 04:44:54+00:00 -1001370292088   \n",
       "4155  2019-10-31 07:06:25+00:00 -1001370292088   \n",
       "4156  2019-10-27 13:38:49+00:00 -1001370292088   \n",
       "\n",
       "                                                message  \n",
       "0     📣 Car Aromatherapy Solar Vortex\\n\\n📎 ይሄንን👉 t.m...  \n",
       "1     📣 Car Aromatherapy Solar Vortex\\n\\n✔️ የመኪና መዓዛ...  \n",
       "2     🔠🔠🔠🔠 🔠🔠🔠🔠🔠\\n📣 GW HAIR DRYER/Blower\\n\\n✔️ የፀጉር ...  \n",
       "3     📣 2 in 1 Porcelain  Dessert Bowel\\n\\n✔️ የሰላጣ እ...  \n",
       "4     📣 Plastic And Metal Cubic Cloth Cabinet\\n\\n✔️ ...  \n",
       "...                                                 ...  \n",
       "4152                                               2500  \n",
       "4153                                ዋጋ 2500\\n0983063957  \n",
       "4154  የሙያ ባለቤት መሆን መሠልጠን ነው።\\nቀለም ቀቢ ሳያስፈልግዎ ቤትዎን ወይ...  \n",
       "4155  ቤትና ግቢዎን እንዲሁም የብረት እና የእንጨት ቁሳቁስዎን ቀለም ቀቢ ሳያስ...  \n",
       "4156                ለማዘዝ\\n https://t.megojomewechiyaeka  \n",
       "\n",
       "[4157 rows x 3 columns]"
      ]
     },
     "execution_count": 3,
     "metadata": {},
     "output_type": "execute_result"
    }
   ],
   "source": [
    "df # to visualize the scraped data"
   ]
  },
  {
   "cell_type": "code",
   "execution_count": 10,
   "metadata": {},
   "outputs": [
    {
     "data": {
      "text/plain": [
       "0       📣 Car Aromatherapy Solar Vortex\\n\\n📎 ይሄንን👉 t.m...\n",
       "1       📣 Car Aromatherapy Solar Vortex\\n\\n✔️ የመኪና መዓዛ...\n",
       "2       🔠🔠🔠🔠 🔠🔠🔠🔠🔠\\n📣 GW HAIR DRYER/Blower\\n\\n✔️ የፀጉር ...\n",
       "3       📣 2 in 1 Porcelain  Dessert Bowel\\n\\n✔️ የሰላጣ እ...\n",
       "4       📣 Plastic And Metal Cubic Cloth Cabinet\\n\\n✔️ ...\n",
       "                              ...                        \n",
       "4152                                                 2500\n",
       "4153                                  ዋጋ 2500\\n0983063957\n",
       "4154    የሙያ ባለቤት መሆን መሠልጠን ነው።\\nቀለም ቀቢ ሳያስፈልግዎ ቤትዎን ወይ...\n",
       "4155    ቤትና ግቢዎን እንዲሁም የብረት እና የእንጨት ቁሳቁስዎን ቀለም ቀቢ ሳያስ...\n",
       "4156                  ለማዘዝ\\n https://t.megojomewechiyaeka\n",
       "Name: message, Length: 4157, dtype: object"
      ]
     },
     "execution_count": 10,
     "metadata": {},
     "output_type": "execute_result"
    }
   ],
   "source": [
    "df['message'] "
   ]
  },
  {
   "cell_type": "code",
   "execution_count": 11,
   "metadata": {},
   "outputs": [
    {
     "data": {
      "text/plain": [
       "date         0\n",
       "sender_id    0\n",
       "message      0\n",
       "dtype: int64"
      ]
     },
     "execution_count": 11,
     "metadata": {},
     "output_type": "execute_result"
    }
   ],
   "source": [
    "df.isnull().sum()"
   ]
  },
  {
   "cell_type": "code",
   "execution_count": 14,
   "metadata": {},
   "outputs": [
    {
     "data": {
      "text/plain": [
       "count                          4157\n",
       "unique                         4083\n",
       "top       2022-11-29 19:21:17+00:00\n",
       "freq                              5\n",
       "Name: date, dtype: object"
      ]
     },
     "execution_count": 14,
     "metadata": {},
     "output_type": "execute_result"
    }
   ],
   "source": [
    "df['date'].describe() #to check the duplicate and drop them"
   ]
  },
  {
   "cell_type": "code",
   "execution_count": 4,
   "metadata": {},
   "outputs": [
    {
     "name": "stdout",
     "output_type": "stream",
     "text": [
      "Number of duplicate dates: 74\n",
      "Number of unique dates after removing duplicates: 4083\n"
     ]
    }
   ],
   "source": [
    "# Check for duplicates based on the 'date' column\n",
    "duplicate_dates = df[df.duplicated(subset='date')]\n",
    "print(f\"Number of duplicate dates: {len(duplicate_dates)}\")\n",
    "\n",
    "# If you want to remove duplicates:\n",
    "df = df.drop_duplicates(subset='date')\n",
    "print(f\"Number of unique dates after removing duplicates: {df['date'].nunique()}\")\n"
   ]
  },
  {
   "cell_type": "code",
   "execution_count": 5,
   "metadata": {},
   "outputs": [
    {
     "name": "stdout",
     "output_type": "stream",
     "text": [
      "datetime64[ns, UTC]\n"
     ]
    },
    {
     "name": "stderr",
     "output_type": "stream",
     "text": [
      "C:\\Users\\Yibabe\\AppData\\Local\\Temp\\ipykernel_4128\\1445298798.py:1: SettingWithCopyWarning: \n",
      "A value is trying to be set on a copy of a slice from a DataFrame.\n",
      "Try using .loc[row_indexer,col_indexer] = value instead\n",
      "\n",
      "See the caveats in the documentation: https://pandas.pydata.org/pandas-docs/stable/user_guide/indexing.html#returning-a-view-versus-a-copy\n",
      "  df['date'] = pd.to_datetime(df['date'])\n"
     ]
    }
   ],
   "source": [
    "df['date'] = pd.to_datetime(df['date'])\n",
    "print(df['date'].dtypes)  # Verify that it's datetime64[ns]\n"
   ]
  },
  {
   "cell_type": "code",
   "execution_count": null,
   "metadata": {},
   "outputs": [],
   "source": [
    "preproccessing the data and clean the emoji \n",
    "Import Required Libraries"
   ]
  },
  {
   "cell_type": "code",
   "execution_count": 6,
   "metadata": {},
   "outputs": [],
   "source": [
    "import re\n",
    "# Define a Function to Remove Emojis\n",
    "def remove_emojis(text):\n",
    "    # Define a regex pattern for emojis\n",
    "    emoji_pattern = re.compile(\n",
    "        \"[\"\n",
    "        \"\\U0001F600-\\U0001F64F\"  # emoticons\n",
    "        \"\\U0001F300-\\U0001F5FF\"  # symbols & pictographs\n",
    "        \"\\U0001F680-\\U0001F6FF\"  # transport & map symbols\n",
    "        \"\\U0001F700-\\U0001F77F\"  # alchemical symbols\n",
    "        \"\\U0001F780-\\U0001F7FF\"  # Geometric Shapes Extended\n",
    "        \"\\U0001F800-\\U0001F8FF\"  # Supplemental Arrows-C\n",
    "        \"\\U0001F900-\\U0001F9FF\"  # Supplemental Symbols and Pictographs\n",
    "        \"\\U0001FA00-\\U0001FA6F\"  # Chess Symbols\n",
    "        \"\\U00002702-\\U000027B0\"  # Dingbats\n",
    "        \"\\U000024C2-\\U0001F251\"\n",
    "        \"]+\",\n",
    "        flags=re.UNICODE\n",
    "    )\n",
    "    return emoji_pattern.sub(r'', text)  # Remove emojis\n"
   ]
  },
  {
   "cell_type": "code",
   "execution_count": 27,
   "metadata": {},
   "outputs": [
    {
     "name": "stdout",
     "output_type": "stream",
     "text": [
      "                                             message  \\\n",
      "0  📣 Car Aromatherapy Solar Vortex\\n\\n📎 ይሄንን👉 t.m...   \n",
      "1  📣 Car Aromatherapy Solar Vortex\\n\\n✔️ የመኪና መዓዛ...   \n",
      "2  🔠🔠🔠🔠 🔠🔠🔠🔠🔠\\n📣 GW HAIR DRYER/Blower\\n\\n✔️ የፀጉር ...   \n",
      "3  📣 2 in 1 Porcelain  Dessert Bowel\\n\\n✔️ የሰላጣ እ...   \n",
      "4  📣 Plastic And Metal Cubic Cloth Cabinet\\n\\n✔️ ...   \n",
      "\n",
      "                                     cleaned_message  \n",
      "0   Car Aromatherapy Solar Vortex\\n\\n ይሄንን t.me/M...  \n",
      "1   Car Aromatherapy Solar Vortex\\n\\n የመኪና መዓዛ \\n...  \n",
      "2   \\n GW HAIR DRYER/Blower\\n\\n የፀጉር ማድረቂያ ፎን\\n60...  \n",
      "3   2 in 1 Porcelain  Dessert Bowel\\n\\n የሰላጣ እና የ...  \n",
      "4   Plastic And Metal Cubic Cloth Cabinet\\n\\n ዘመና...  \n"
     ]
    },
    {
     "name": "stderr",
     "output_type": "stream",
     "text": [
      "C:\\Users\\Yibabe\\AppData\\Local\\Temp\\ipykernel_4128\\2754118570.py:2: SettingWithCopyWarning: \n",
      "A value is trying to be set on a copy of a slice from a DataFrame.\n",
      "Try using .loc[row_indexer,col_indexer] = value instead\n",
      "\n",
      "See the caveats in the documentation: https://pandas.pydata.org/pandas-docs/stable/user_guide/indexing.html#returning-a-view-versus-a-copy\n",
      "  df['cleaned_message'] = df['message'].apply(remove_emojis)\n"
     ]
    }
   ],
   "source": [
    "#Apply the Function to THE DataFrame\n",
    "df['cleaned_message'] = df['message'].apply(remove_emojis)\n",
    "\n",
    "# Check the results\n",
    "print(df[['message', 'cleaned_message']].head())\n"
   ]
  },
  {
   "cell_type": "code",
   "execution_count": 28,
   "metadata": {},
   "outputs": [
    {
     "data": {
      "text/html": [
       "<div>\n",
       "<style scoped>\n",
       "    .dataframe tbody tr th:only-of-type {\n",
       "        vertical-align: middle;\n",
       "    }\n",
       "\n",
       "    .dataframe tbody tr th {\n",
       "        vertical-align: top;\n",
       "    }\n",
       "\n",
       "    .dataframe thead th {\n",
       "        text-align: right;\n",
       "    }\n",
       "</style>\n",
       "<table border=\"1\" class=\"dataframe\">\n",
       "  <thead>\n",
       "    <tr style=\"text-align: right;\">\n",
       "      <th></th>\n",
       "      <th>date</th>\n",
       "      <th>sender_id</th>\n",
       "      <th>message</th>\n",
       "      <th>cleaned_message</th>\n",
       "    </tr>\n",
       "  </thead>\n",
       "  <tbody>\n",
       "    <tr>\n",
       "      <th>0</th>\n",
       "      <td>2024-09-26 16:38:22+00:00</td>\n",
       "      <td>-1001370292088</td>\n",
       "      <td>📣 Car Aromatherapy Solar Vortex\\n\\n📎 ይሄንን👉 t.m...</td>\n",
       "      <td>Car Aromatherapy Solar Vortex\\n\\n ይሄንን t.me/M...</td>\n",
       "    </tr>\n",
       "    <tr>\n",
       "      <th>1</th>\n",
       "      <td>2024-09-26 16:16:51+00:00</td>\n",
       "      <td>-1001370292088</td>\n",
       "      <td>📣 Car Aromatherapy Solar Vortex\\n\\n✔️ የመኪና መዓዛ...</td>\n",
       "      <td>Car Aromatherapy Solar Vortex\\n\\n የመኪና መዓዛ \\n...</td>\n",
       "    </tr>\n",
       "    <tr>\n",
       "      <th>2</th>\n",
       "      <td>2024-09-26 12:31:45+00:00</td>\n",
       "      <td>-1001370292088</td>\n",
       "      <td>🔠🔠🔠🔠 🔠🔠🔠🔠🔠\\n📣 GW HAIR DRYER/Blower\\n\\n✔️ የፀጉር ...</td>\n",
       "      <td>\\n GW HAIR DRYER/Blower\\n\\n የፀጉር ማድረቂያ ፎን\\n60...</td>\n",
       "    </tr>\n",
       "    <tr>\n",
       "      <th>3</th>\n",
       "      <td>2024-09-26 09:22:02+00:00</td>\n",
       "      <td>-1001370292088</td>\n",
       "      <td>📣 2 in 1 Porcelain  Dessert Bowel\\n\\n✔️ የሰላጣ እ...</td>\n",
       "      <td>2 in 1 Porcelain  Dessert Bowel\\n\\n የሰላጣ እና የ...</td>\n",
       "    </tr>\n",
       "    <tr>\n",
       "      <th>4</th>\n",
       "      <td>2024-09-26 08:31:44+00:00</td>\n",
       "      <td>-1001370292088</td>\n",
       "      <td>📣 Plastic And Metal Cubic Cloth Cabinet\\n\\n✔️ ...</td>\n",
       "      <td>Plastic And Metal Cubic Cloth Cabinet\\n\\n ዘመና...</td>\n",
       "    </tr>\n",
       "    <tr>\n",
       "      <th>...</th>\n",
       "      <td>...</td>\n",
       "      <td>...</td>\n",
       "      <td>...</td>\n",
       "      <td>...</td>\n",
       "    </tr>\n",
       "    <tr>\n",
       "      <th>4152</th>\n",
       "      <td>2019-11-13 10:01:12+00:00</td>\n",
       "      <td>-1001370292088</td>\n",
       "      <td>2500</td>\n",
       "      <td>2500</td>\n",
       "    </tr>\n",
       "    <tr>\n",
       "      <th>4153</th>\n",
       "      <td>2019-11-13 10:00:40+00:00</td>\n",
       "      <td>-1001370292088</td>\n",
       "      <td>ዋጋ 2500\\n0983063957</td>\n",
       "      <td>ዋጋ 2500\\n0983063957</td>\n",
       "    </tr>\n",
       "    <tr>\n",
       "      <th>4154</th>\n",
       "      <td>2019-11-09 04:44:54+00:00</td>\n",
       "      <td>-1001370292088</td>\n",
       "      <td>የሙያ ባለቤት መሆን መሠልጠን ነው።\\nቀለም ቀቢ ሳያስፈልግዎ ቤትዎን ወይ...</td>\n",
       "      <td>የሙያ ባለቤት መሆን መሠልጠን ነው።\\nቀለም ቀቢ ሳያስፈልግዎ ቤትዎን ወይ...</td>\n",
       "    </tr>\n",
       "    <tr>\n",
       "      <th>4155</th>\n",
       "      <td>2019-10-31 07:06:25+00:00</td>\n",
       "      <td>-1001370292088</td>\n",
       "      <td>ቤትና ግቢዎን እንዲሁም የብረት እና የእንጨት ቁሳቁስዎን ቀለም ቀቢ ሳያስ...</td>\n",
       "      <td>ቤትና ግቢዎን እንዲሁም የብረት እና የእንጨት ቁሳቁስዎን ቀለም ቀቢ ሳያስ...</td>\n",
       "    </tr>\n",
       "    <tr>\n",
       "      <th>4156</th>\n",
       "      <td>2019-10-27 13:38:49+00:00</td>\n",
       "      <td>-1001370292088</td>\n",
       "      <td>ለማዘዝ\\n https://t.megojomewechiyaeka</td>\n",
       "      <td>ለማዘዝ\\n https://t.megojomewechiyaeka</td>\n",
       "    </tr>\n",
       "  </tbody>\n",
       "</table>\n",
       "<p>4083 rows × 4 columns</p>\n",
       "</div>"
      ],
      "text/plain": [
       "                          date      sender_id  \\\n",
       "0    2024-09-26 16:38:22+00:00 -1001370292088   \n",
       "1    2024-09-26 16:16:51+00:00 -1001370292088   \n",
       "2    2024-09-26 12:31:45+00:00 -1001370292088   \n",
       "3    2024-09-26 09:22:02+00:00 -1001370292088   \n",
       "4    2024-09-26 08:31:44+00:00 -1001370292088   \n",
       "...                        ...            ...   \n",
       "4152 2019-11-13 10:01:12+00:00 -1001370292088   \n",
       "4153 2019-11-13 10:00:40+00:00 -1001370292088   \n",
       "4154 2019-11-09 04:44:54+00:00 -1001370292088   \n",
       "4155 2019-10-31 07:06:25+00:00 -1001370292088   \n",
       "4156 2019-10-27 13:38:49+00:00 -1001370292088   \n",
       "\n",
       "                                                message  \\\n",
       "0     📣 Car Aromatherapy Solar Vortex\\n\\n📎 ይሄንን👉 t.m...   \n",
       "1     📣 Car Aromatherapy Solar Vortex\\n\\n✔️ የመኪና መዓዛ...   \n",
       "2     🔠🔠🔠🔠 🔠🔠🔠🔠🔠\\n📣 GW HAIR DRYER/Blower\\n\\n✔️ የፀጉር ...   \n",
       "3     📣 2 in 1 Porcelain  Dessert Bowel\\n\\n✔️ የሰላጣ እ...   \n",
       "4     📣 Plastic And Metal Cubic Cloth Cabinet\\n\\n✔️ ...   \n",
       "...                                                 ...   \n",
       "4152                                               2500   \n",
       "4153                                ዋጋ 2500\\n0983063957   \n",
       "4154  የሙያ ባለቤት መሆን መሠልጠን ነው።\\nቀለም ቀቢ ሳያስፈልግዎ ቤትዎን ወይ...   \n",
       "4155  ቤትና ግቢዎን እንዲሁም የብረት እና የእንጨት ቁሳቁስዎን ቀለም ቀቢ ሳያስ...   \n",
       "4156                ለማዘዝ\\n https://t.megojomewechiyaeka   \n",
       "\n",
       "                                        cleaned_message  \n",
       "0      Car Aromatherapy Solar Vortex\\n\\n ይሄንን t.me/M...  \n",
       "1      Car Aromatherapy Solar Vortex\\n\\n የመኪና መዓዛ \\n...  \n",
       "2      \\n GW HAIR DRYER/Blower\\n\\n የፀጉር ማድረቂያ ፎን\\n60...  \n",
       "3      2 in 1 Porcelain  Dessert Bowel\\n\\n የሰላጣ እና የ...  \n",
       "4      Plastic And Metal Cubic Cloth Cabinet\\n\\n ዘመና...  \n",
       "...                                                 ...  \n",
       "4152                                               2500  \n",
       "4153                                ዋጋ 2500\\n0983063957  \n",
       "4154  የሙያ ባለቤት መሆን መሠልጠን ነው።\\nቀለም ቀቢ ሳያስፈልግዎ ቤትዎን ወይ...  \n",
       "4155  ቤትና ግቢዎን እንዲሁም የብረት እና የእንጨት ቁሳቁስዎን ቀለም ቀቢ ሳያስ...  \n",
       "4156                ለማዘዝ\\n https://t.megojomewechiyaeka  \n",
       "\n",
       "[4083 rows x 4 columns]"
      ]
     },
     "execution_count": 28,
     "metadata": {},
     "output_type": "execute_result"
    }
   ],
   "source": [
    "df"
   ]
  },
  {
   "cell_type": "code",
   "execution_count": 29,
   "metadata": {},
   "outputs": [],
   "source": [
    "df1 = df.drop(['message'],axis ='columns')"
   ]
  },
  {
   "cell_type": "code",
   "execution_count": 30,
   "metadata": {},
   "outputs": [
    {
     "data": {
      "text/html": [
       "<div>\n",
       "<style scoped>\n",
       "    .dataframe tbody tr th:only-of-type {\n",
       "        vertical-align: middle;\n",
       "    }\n",
       "\n",
       "    .dataframe tbody tr th {\n",
       "        vertical-align: top;\n",
       "    }\n",
       "\n",
       "    .dataframe thead th {\n",
       "        text-align: right;\n",
       "    }\n",
       "</style>\n",
       "<table border=\"1\" class=\"dataframe\">\n",
       "  <thead>\n",
       "    <tr style=\"text-align: right;\">\n",
       "      <th></th>\n",
       "      <th>date</th>\n",
       "      <th>sender_id</th>\n",
       "      <th>cleaned_message</th>\n",
       "    </tr>\n",
       "  </thead>\n",
       "  <tbody>\n",
       "    <tr>\n",
       "      <th>0</th>\n",
       "      <td>2024-09-26 16:38:22+00:00</td>\n",
       "      <td>-1001370292088</td>\n",
       "      <td>Car Aromatherapy Solar Vortex\\n\\n ይሄንን t.me/M...</td>\n",
       "    </tr>\n",
       "    <tr>\n",
       "      <th>1</th>\n",
       "      <td>2024-09-26 16:16:51+00:00</td>\n",
       "      <td>-1001370292088</td>\n",
       "      <td>Car Aromatherapy Solar Vortex\\n\\n የመኪና መዓዛ \\n...</td>\n",
       "    </tr>\n",
       "    <tr>\n",
       "      <th>2</th>\n",
       "      <td>2024-09-26 12:31:45+00:00</td>\n",
       "      <td>-1001370292088</td>\n",
       "      <td>\\n GW HAIR DRYER/Blower\\n\\n የፀጉር ማድረቂያ ፎን\\n60...</td>\n",
       "    </tr>\n",
       "    <tr>\n",
       "      <th>3</th>\n",
       "      <td>2024-09-26 09:22:02+00:00</td>\n",
       "      <td>-1001370292088</td>\n",
       "      <td>2 in 1 Porcelain  Dessert Bowel\\n\\n የሰላጣ እና የ...</td>\n",
       "    </tr>\n",
       "    <tr>\n",
       "      <th>4</th>\n",
       "      <td>2024-09-26 08:31:44+00:00</td>\n",
       "      <td>-1001370292088</td>\n",
       "      <td>Plastic And Metal Cubic Cloth Cabinet\\n\\n ዘመና...</td>\n",
       "    </tr>\n",
       "    <tr>\n",
       "      <th>...</th>\n",
       "      <td>...</td>\n",
       "      <td>...</td>\n",
       "      <td>...</td>\n",
       "    </tr>\n",
       "    <tr>\n",
       "      <th>4152</th>\n",
       "      <td>2019-11-13 10:01:12+00:00</td>\n",
       "      <td>-1001370292088</td>\n",
       "      <td>2500</td>\n",
       "    </tr>\n",
       "    <tr>\n",
       "      <th>4153</th>\n",
       "      <td>2019-11-13 10:00:40+00:00</td>\n",
       "      <td>-1001370292088</td>\n",
       "      <td>ዋጋ 2500\\n0983063957</td>\n",
       "    </tr>\n",
       "    <tr>\n",
       "      <th>4154</th>\n",
       "      <td>2019-11-09 04:44:54+00:00</td>\n",
       "      <td>-1001370292088</td>\n",
       "      <td>የሙያ ባለቤት መሆን መሠልጠን ነው።\\nቀለም ቀቢ ሳያስፈልግዎ ቤትዎን ወይ...</td>\n",
       "    </tr>\n",
       "    <tr>\n",
       "      <th>4155</th>\n",
       "      <td>2019-10-31 07:06:25+00:00</td>\n",
       "      <td>-1001370292088</td>\n",
       "      <td>ቤትና ግቢዎን እንዲሁም የብረት እና የእንጨት ቁሳቁስዎን ቀለም ቀቢ ሳያስ...</td>\n",
       "    </tr>\n",
       "    <tr>\n",
       "      <th>4156</th>\n",
       "      <td>2019-10-27 13:38:49+00:00</td>\n",
       "      <td>-1001370292088</td>\n",
       "      <td>ለማዘዝ\\n https://t.megojomewechiyaeka</td>\n",
       "    </tr>\n",
       "  </tbody>\n",
       "</table>\n",
       "<p>4083 rows × 3 columns</p>\n",
       "</div>"
      ],
      "text/plain": [
       "                          date      sender_id  \\\n",
       "0    2024-09-26 16:38:22+00:00 -1001370292088   \n",
       "1    2024-09-26 16:16:51+00:00 -1001370292088   \n",
       "2    2024-09-26 12:31:45+00:00 -1001370292088   \n",
       "3    2024-09-26 09:22:02+00:00 -1001370292088   \n",
       "4    2024-09-26 08:31:44+00:00 -1001370292088   \n",
       "...                        ...            ...   \n",
       "4152 2019-11-13 10:01:12+00:00 -1001370292088   \n",
       "4153 2019-11-13 10:00:40+00:00 -1001370292088   \n",
       "4154 2019-11-09 04:44:54+00:00 -1001370292088   \n",
       "4155 2019-10-31 07:06:25+00:00 -1001370292088   \n",
       "4156 2019-10-27 13:38:49+00:00 -1001370292088   \n",
       "\n",
       "                                        cleaned_message  \n",
       "0      Car Aromatherapy Solar Vortex\\n\\n ይሄንን t.me/M...  \n",
       "1      Car Aromatherapy Solar Vortex\\n\\n የመኪና መዓዛ \\n...  \n",
       "2      \\n GW HAIR DRYER/Blower\\n\\n የፀጉር ማድረቂያ ፎን\\n60...  \n",
       "3      2 in 1 Porcelain  Dessert Bowel\\n\\n የሰላጣ እና የ...  \n",
       "4      Plastic And Metal Cubic Cloth Cabinet\\n\\n ዘመና...  \n",
       "...                                                 ...  \n",
       "4152                                               2500  \n",
       "4153                                ዋጋ 2500\\n0983063957  \n",
       "4154  የሙያ ባለቤት መሆን መሠልጠን ነው።\\nቀለም ቀቢ ሳያስፈልግዎ ቤትዎን ወይ...  \n",
       "4155  ቤትና ግቢዎን እንዲሁም የብረት እና የእንጨት ቁሳቁስዎን ቀለም ቀቢ ሳያስ...  \n",
       "4156                ለማዘዝ\\n https://t.megojomewechiyaeka  \n",
       "\n",
       "[4083 rows x 3 columns]"
      ]
     },
     "execution_count": 30,
     "metadata": {},
     "output_type": "execute_result"
    }
   ],
   "source": [
    "df1"
   ]
  },
  {
   "cell_type": "code",
   "execution_count": 31,
   "metadata": {},
   "outputs": [],
   "source": [
    "# Save the Preprocessed Data\n",
    "df1.to_csv(r'C:\\Users\\Yibabe\\Desktop\\10academyAIMweek-5\\data\\preprocessed_data.csv', index=False)\n"
   ]
  },
  {
   "cell_type": "code",
   "execution_count": null,
   "metadata": {},
   "outputs": [],
   "source": []
  },
  {
   "cell_type": "code",
   "execution_count": null,
   "metadata": {},
   "outputs": [],
   "source": []
  },
  {
   "cell_type": "code",
   "execution_count": null,
   "metadata": {},
   "outputs": [],
   "source": []
  },
  {
   "cell_type": "code",
   "execution_count": null,
   "metadata": {},
   "outputs": [],
   "source": []
  },
  {
   "cell_type": "code",
   "execution_count": null,
   "metadata": {},
   "outputs": [],
   "source": []
  },
  {
   "cell_type": "code",
   "execution_count": null,
   "metadata": {},
   "outputs": [],
   "source": []
  }
 ],
 "metadata": {
  "kernelspec": {
   "display_name": "env",
   "language": "python",
   "name": "python3"
  },
  "language_info": {
   "codemirror_mode": {
    "name": "ipython",
    "version": 3
   },
   "file_extension": ".py",
   "mimetype": "text/x-python",
   "name": "python",
   "nbconvert_exporter": "python",
   "pygments_lexer": "ipython3",
   "version": "3.12.5"
  }
 },
 "nbformat": 4,
 "nbformat_minor": 2
}
