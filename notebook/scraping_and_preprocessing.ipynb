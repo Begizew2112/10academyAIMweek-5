{
 "cells": [
  {
   "cell_type": "code",
   "execution_count": 1,
   "metadata": {},
   "outputs": [],
   "source": [
    "import pandas as pd\n",
    "import numpy as np"
   ]
  },
  {
   "cell_type": "code",
   "execution_count": null,
   "metadata": {},
   "outputs": [],
   "source": [
    "Set up your environment and install the necessary libraries"
   ]
  },
  {
   "cell_type": "code",
   "execution_count": 3,
   "metadata": {},
   "outputs": [
    {
     "name": "stdout",
     "output_type": "stream",
     "text": [
      "Requirement already satisfied: telethon in c:\\users\\yibabe\\desktop\\10academyaimweek-5\\env\\lib\\site-packages (1.37.0)\n",
      "Requirement already satisfied: pyaes in c:\\users\\yibabe\\desktop\\10academyaimweek-5\\env\\lib\\site-packages (from telethon) (1.6.1)\n",
      "Requirement already satisfied: rsa in c:\\users\\yibabe\\desktop\\10academyaimweek-5\\env\\lib\\site-packages (from telethon) (4.9)\n",
      "Requirement already satisfied: pyasn1>=0.1.3 in c:\\users\\yibabe\\desktop\\10academyaimweek-5\\env\\lib\\site-packages (from rsa->telethon) (0.6.1)\n"
     ]
    }
   ],
   "source": [
    "!pip install telethon\n"
   ]
  },
  {
   "cell_type": "code",
   "execution_count": null,
   "metadata": {},
   "outputs": [],
   "source": [
    " Import and authenticate with the Telegram API"
   ]
  },
  {
   "cell_type": "code",
   "execution_count": 2,
   "metadata": {},
   "outputs": [
    {
     "name": "stderr",
     "output_type": "stream",
     "text": [
      "Server resent the older message 7420754915562624001, ignoring\n"
     ]
    },
    {
     "name": "stdout",
     "output_type": "stream",
     "text": [
      "Connected to Telegram\n"
     ]
    },
    {
     "name": "stderr",
     "output_type": "stream",
     "text": [
      "Server closed the connection: [WinError 10054] An existing connection was forcibly closed by the remote host\n"
     ]
    }
   ],
   "source": [
    "from telethon.sync import TelegramClient\n",
    "\n",
    "# Replace these with your own values\n",
    "api_id = '29354999'\n",
    "api_hash = 'edc4bfe62ee519a3259bbdb92ba66aae'\n",
    "phone_number = '+251960627431'\n",
    "\n",
    "# Create the client and connect\n",
    "client = TelegramClient('session_name', api_id, api_hash)\n",
    "\n",
    "async def connect_telegram():\n",
    "    await client.start(phone_number)\n",
    "    print(\"Connected to Telegram\")\n",
    "\n",
    "await connect_telegram()\n"
   ]
  },
  {
   "cell_type": "code",
   "execution_count": null,
   "metadata": {},
   "outputs": [],
   "source": [
    "Access the channel and scrape messages and save to csv file"
   ]
  },
  {
   "cell_type": "code",
   "execution_count": 3,
   "metadata": {},
   "outputs": [
    {
     "name": "stdout",
     "output_type": "stream",
     "text": [
      "Scraping messages... Collected 0 so far.\n",
      "Scraping messages... Collected 100 so far.\n",
      "Scraping messages... Collected 200 so far.\n",
      "Scraping messages... Collected 300 so far.\n",
      "Scraping messages... Collected 400 so far.\n",
      "Scraping messages... Collected 500 so far.\n",
      "Scraping messages... Collected 600 so far.\n",
      "Scraping messages... Collected 700 so far.\n",
      "Scraping messages... Collected 800 so far.\n",
      "Scraping messages... Collected 900 so far.\n",
      "Scraping messages... Collected 1000 so far.\n",
      "Scraping messages... Collected 1100 so far.\n",
      "Scraping messages... Collected 1200 so far.\n",
      "Scraping messages... Collected 1300 so far.\n",
      "Scraping messages... Collected 1400 so far.\n",
      "Scraping messages... Collected 1500 so far.\n",
      "Scraping messages... Collected 1600 so far.\n",
      "Scraping messages... Collected 1700 so far.\n",
      "Scraping messages... Collected 1800 so far.\n",
      "Scraping messages... Collected 1900 so far.\n",
      "Scraping messages... Collected 2000 so far.\n",
      "Scraping messages... Collected 2100 so far.\n",
      "Scraping messages... Collected 2200 so far.\n",
      "Scraping messages... Collected 2300 so far.\n",
      "Scraping messages... Collected 2400 so far.\n",
      "Scraping messages... Collected 2500 so far.\n",
      "Scraping messages... Collected 2600 so far.\n",
      "Scraping messages... Collected 2700 so far.\n",
      "Scraping messages... Collected 2800 so far.\n",
      "Scraping messages... Collected 2900 so far.\n",
      "Scraping messages... Collected 3000 so far.\n",
      "Scraping messages... Collected 3100 so far.\n",
      "Scraping messages... Collected 3200 so far.\n",
      "Scraping messages... Collected 3300 so far.\n",
      "Scraping messages... Collected 3400 so far.\n",
      "Scraping messages... Collected 3500 so far.\n",
      "Scraping messages... Collected 3600 so far.\n",
      "Scraping messages... Collected 3700 so far.\n",
      "Scraping messages... Collected 3800 so far.\n",
      "Scraping messages... Collected 3900 so far.\n",
      "Scraping messages... Collected 4000 so far.\n",
      "Scraping messages... Collected 4100 so far.\n",
      "Scraping messages... Collected 4200 so far.\n",
      "Scraping messages... Collected 4300 so far.\n",
      "Scraping messages... Collected 4400 so far.\n",
      "Scraping messages... Collected 4500 so far.\n",
      "Scraping messages... Collected 4600 so far.\n",
      "Scraping messages... Collected 4700 so far.\n",
      "Scraping messages... Collected 4800 so far.\n",
      "Scraping messages... Collected 4900 so far.\n",
      "Scraping messages... Collected 5000 so far.\n",
      "Scraping messages... Collected 5100 so far.\n",
      "Scraping messages... Collected 5200 so far.\n",
      "Scraping messages... Collected 5300 so far.\n",
      "Scraping messages... Collected 5400 so far.\n",
      "Scraping messages... Collected 5500 so far.\n",
      "Scraping messages... Collected 5600 so far.\n",
      "Scraping messages... Collected 5700 so far.\n",
      "Scraping messages... Collected 5731 so far.\n",
      "Scraping complete. Data saved to 'telegram_channel_messages.csv'\n"
     ]
    }
   ],
   "source": [
    "import time\n",
    "import pandas as pd\n",
    "from telethon.tl.functions.messages import GetHistoryRequest\n",
    "from telethon.tl.types import PeerChannel\n",
    "\n",
    "async def scrape_channel_messages(channel_username, max_messages=10000, batch_size=100, sleep_time=2):\n",
    "    # Get the channel entity\n",
    "    channel = await client.get_entity(channel_username)\n",
    "    \n",
    "    # Variables for scraping\n",
    "    offset_id = 0\n",
    "    all_messages = []\n",
    "    \n",
    "    while len(all_messages) < max_messages:\n",
    "        print(f\"Scraping messages... Collected {len(all_messages)} so far.\")\n",
    "        \n",
    "        # Fetch the message history\n",
    "        history = await client(GetHistoryRequest(\n",
    "            peer=channel,\n",
    "            offset_id=offset_id,\n",
    "            offset_date=None,\n",
    "            add_offset=0,\n",
    "            limit=batch_size,\n",
    "            max_id=0,\n",
    "            min_id=0,\n",
    "            hash=0\n",
    "        ))\n",
    "        \n",
    "        # Break the loop if no more messages are returned\n",
    "        if not history.messages:\n",
    "            break\n",
    "        \n",
    "        # Add messages to the list\n",
    "        messages = history.messages\n",
    "        all_messages.extend(messages)\n",
    "        \n",
    "        # Update the offset_id to the last message's ID to avoid duplicates\n",
    "        offset_id = messages[-1].id\n",
    "        \n",
    "        # Sleep to respect Telegram's rate limit\n",
    "        time.sleep(sleep_time)\n",
    "    \n",
    "    # Limit the number of messages to max_messages\n",
    "    all_messages = all_messages[:max_messages]\n",
    "\n",
    "    # Prepare the data for CSV export\n",
    "    data = []\n",
    "    for msg in all_messages:\n",
    "        if msg.message:  # Only save non-empty messages\n",
    "            data.append({\n",
    "                'date': msg.date,\n",
    "                'sender_id': msg.sender_id,\n",
    "                'message': msg.message\n",
    "            })\n",
    "\n",
    "    # Convert to DataFrame and save to CSV\n",
    "    df = pd.DataFrame(data)\n",
    "    df.to_csv(r'C:\\Users\\Yibabe\\Desktop\\10academyAIMweek-5\\data\\telegram_channel_messages.csv', index=False)\n",
    "    print(\"Scraping complete. Data saved to 'telegram_channel_messages.csv'\")\n",
    "\n",
    "# Scrape up to 10,000 messages and save to CSV\n",
    "await scrape_channel_messages('@MerttEka', max_messages=10000, batch_size=100, sleep_time=0.1)\n"
   ]
  },
  {
   "cell_type": "code",
   "execution_count": 1,
   "metadata": {},
   "outputs": [],
   "source": [
    "import pandas as pd\n",
    "#load the csv file \n",
    "df = pd.read_csv(r'C:\\Users\\Yibabe\\Desktop\\10academyAIMweek-5\\data\\telegram_channel_messages.csv')"
   ]
  },
  {
   "cell_type": "code",
   "execution_count": 3,
   "metadata": {},
   "outputs": [
    {
     "data": {
      "text/html": [
       "<div>\n",
       "<style scoped>\n",
       "    .dataframe tbody tr th:only-of-type {\n",
       "        vertical-align: middle;\n",
       "    }\n",
       "\n",
       "    .dataframe tbody tr th {\n",
       "        vertical-align: top;\n",
       "    }\n",
       "\n",
       "    .dataframe thead th {\n",
       "        text-align: right;\n",
       "    }\n",
       "</style>\n",
       "<table border=\"1\" class=\"dataframe\">\n",
       "  <thead>\n",
       "    <tr style=\"text-align: right;\">\n",
       "      <th></th>\n",
       "      <th>date</th>\n",
       "      <th>sender_id</th>\n",
       "      <th>message</th>\n",
       "    </tr>\n",
       "  </thead>\n",
       "  <tbody>\n",
       "    <tr>\n",
       "      <th>0</th>\n",
       "      <td>2024-10-01 10:39:48+00:00</td>\n",
       "      <td>-1001370292088</td>\n",
       "      <td>📣 🔠🔠🔠 🔠🔠🔠🔠🔠  🔠🔠🔠\\n✔️ የትኩስ ውሃ መያዢያ ከረጢት\\n✔️ 1.8...</td>\n",
       "    </tr>\n",
       "    <tr>\n",
       "      <th>1</th>\n",
       "      <td>2024-09-30 13:19:34+00:00</td>\n",
       "      <td>-1001370292088</td>\n",
       "      <td>📣Special Base for Refrigerators\\n\\n✔️የፍሪጅ ማስቀመ...</td>\n",
       "    </tr>\n",
       "    <tr>\n",
       "      <th>2</th>\n",
       "      <td>2024-09-30 11:11:45+00:00</td>\n",
       "      <td>-1001370292088</td>\n",
       "      <td>📣 Door Step Shoe Rack\\n\\n✔️ የበር ስር ጫማ ማስቀመጫ\\n✔...</td>\n",
       "    </tr>\n",
       "    <tr>\n",
       "      <th>3</th>\n",
       "      <td>2024-09-29 15:35:03+00:00</td>\n",
       "      <td>-1001370292088</td>\n",
       "      <td>📣 🔠🔠🔠🔠🔠🔠🔠 🔠🔠🔠🔠🔠\\n\\n✔️ ዘመናዊ በኤሌክትሮኒክስ የሚሰራ ሚዛን\\...</td>\n",
       "    </tr>\n",
       "    <tr>\n",
       "      <th>4</th>\n",
       "      <td>2024-09-29 15:13:37+00:00</td>\n",
       "      <td>-1001370292088</td>\n",
       "      <td>📣 🔠🔠🔠🔠🔠 🔠🔠🔠🔠🔠🔠🔠🔠 🔠🔠🔠🔠🔠🔠\\n\\n✔️ ቦርጭ የሚሰበስብ\\n✔️የቦ...</td>\n",
       "    </tr>\n",
       "  </tbody>\n",
       "</table>\n",
       "</div>"
      ],
      "text/plain": [
       "                        date      sender_id  \\\n",
       "0  2024-10-01 10:39:48+00:00 -1001370292088   \n",
       "1  2024-09-30 13:19:34+00:00 -1001370292088   \n",
       "2  2024-09-30 11:11:45+00:00 -1001370292088   \n",
       "3  2024-09-29 15:35:03+00:00 -1001370292088   \n",
       "4  2024-09-29 15:13:37+00:00 -1001370292088   \n",
       "\n",
       "                                             message  \n",
       "0  📣 🔠🔠🔠 🔠🔠🔠🔠🔠  🔠🔠🔠\\n✔️ የትኩስ ውሃ መያዢያ ከረጢት\\n✔️ 1.8...  \n",
       "1  📣Special Base for Refrigerators\\n\\n✔️የፍሪጅ ማስቀመ...  \n",
       "2  📣 Door Step Shoe Rack\\n\\n✔️ የበር ስር ጫማ ማስቀመጫ\\n✔...  \n",
       "3  📣 🔠🔠🔠🔠🔠🔠🔠 🔠🔠🔠🔠🔠\\n\\n✔️ ዘመናዊ በኤሌክትሮኒክስ የሚሰራ ሚዛን\\...  \n",
       "4  📣 🔠🔠🔠🔠🔠 🔠🔠🔠🔠🔠🔠🔠🔠 🔠🔠🔠🔠🔠🔠\\n\\n✔️ ቦርጭ የሚሰበስብ\\n✔️የቦ...  "
      ]
     },
     "execution_count": 3,
     "metadata": {},
     "output_type": "execute_result"
    }
   ],
   "source": [
    "df .head()# to visualize the scraped data"
   ]
  },
  {
   "cell_type": "code",
   "execution_count": 4,
   "metadata": {},
   "outputs": [
    {
     "data": {
      "text/plain": [
       "0       📣 🔠🔠🔠 🔠🔠🔠🔠🔠  🔠🔠🔠\\n✔️ የትኩስ ውሃ መያዢያ ከረጢት\\n✔️ 1.8...\n",
       "1       📣Special Base for Refrigerators\\n\\n✔️የፍሪጅ ማስቀመ...\n",
       "2       📣 Door Step Shoe Rack\\n\\n✔️ የበር ስር ጫማ ማስቀመጫ\\n✔...\n",
       "3       📣 🔠🔠🔠🔠🔠🔠🔠 🔠🔠🔠🔠🔠\\n\\n✔️ ዘመናዊ በኤሌክትሮኒክስ የሚሰራ ሚዛን\\...\n",
       "4       📣 🔠🔠🔠🔠🔠 🔠🔠🔠🔠🔠🔠🔠🔠 🔠🔠🔠🔠🔠🔠\\n\\n✔️ ቦርጭ የሚሰበስብ\\n✔️የቦ...\n",
       "                              ...                        \n",
       "4163                                                 2500\n",
       "4164                                  ዋጋ 2500\\n0983063957\n",
       "4165    የሙያ ባለቤት መሆን መሠልጠን ነው።\\nቀለም ቀቢ ሳያስፈልግዎ ቤትዎን ወይ...\n",
       "4166    ቤትና ግቢዎን እንዲሁም የብረት እና የእንጨት ቁሳቁስዎን ቀለም ቀቢ ሳያስ...\n",
       "4167                  ለማዘዝ\\n https://t.megojomewechiyaeka\n",
       "Name: message, Length: 4168, dtype: object"
      ]
     },
     "execution_count": 4,
     "metadata": {},
     "output_type": "execute_result"
    }
   ],
   "source": [
    "df['message'] "
   ]
  },
  {
   "cell_type": "code",
   "execution_count": 5,
   "metadata": {},
   "outputs": [
    {
     "data": {
      "text/plain": [
       "Index(['date', 'sender_id', 'message'], dtype='object')"
      ]
     },
     "execution_count": 5,
     "metadata": {},
     "output_type": "execute_result"
    }
   ],
   "source": [
    "df.columns"
   ]
  },
  {
   "cell_type": "code",
   "execution_count": 6,
   "metadata": {},
   "outputs": [
    {
     "data": {
      "text/plain": [
       "date         0\n",
       "sender_id    0\n",
       "message      0\n",
       "dtype: int64"
      ]
     },
     "execution_count": 6,
     "metadata": {},
     "output_type": "execute_result"
    }
   ],
   "source": [
    "df.isnull().sum()"
   ]
  },
  {
   "cell_type": "code",
   "execution_count": 7,
   "metadata": {},
   "outputs": [
    {
     "data": {
      "text/plain": [
       "(4168, 3)"
      ]
     },
     "execution_count": 7,
     "metadata": {},
     "output_type": "execute_result"
    }
   ],
   "source": [
    "df.shape"
   ]
  },
  {
   "cell_type": "code",
   "execution_count": 8,
   "metadata": {},
   "outputs": [
    {
     "data": {
      "text/plain": [
       "count                          4168\n",
       "unique                         4094\n",
       "top       2022-11-29 19:21:17+00:00\n",
       "freq                              5\n",
       "Name: date, dtype: object"
      ]
     },
     "execution_count": 8,
     "metadata": {},
     "output_type": "execute_result"
    }
   ],
   "source": [
    "df['date'].describe() #to check the duplicate and drop them"
   ]
  },
  {
   "cell_type": "code",
   "execution_count": 2,
   "metadata": {},
   "outputs": [
    {
     "name": "stdout",
     "output_type": "stream",
     "text": [
      "Number of duplicate dates: 74\n",
      "Number of unique dates after removing duplicates: 4094\n"
     ]
    }
   ],
   "source": [
    "# Check for duplicates based on the 'date' column\n",
    "duplicate_dates = df[df.duplicated(subset='date')]\n",
    "print(f\"Number of duplicate dates: {len(duplicate_dates)}\")\n",
    "\n",
    "# If you want to remove duplicates:\n",
    "df = df.drop_duplicates(subset='date')\n",
    "print(f\"Number of unique dates after removing duplicates: {df['date'].nunique()}\")\n"
   ]
  },
  {
   "cell_type": "code",
   "execution_count": 3,
   "metadata": {},
   "outputs": [
    {
     "name": "stdout",
     "output_type": "stream",
     "text": [
      "datetime64[ns, UTC]\n"
     ]
    }
   ],
   "source": [
    "df['date'] = pd.to_datetime(df['date'])\n",
    "print(df['date'].dtypes)  # Verify that it's datetime64[ns]\n"
   ]
  },
  {
   "cell_type": "markdown",
   "metadata": {},
   "source": [
    "preproccessing the data and clean the emoji \n",
    "Import Required Libraries"
   ]
  },
  {
   "cell_type": "code",
   "execution_count": 4,
   "metadata": {},
   "outputs": [],
   "source": [
    "import re\n",
    "# Define a Function to Remove Emojis\n",
    "def remove_emojis(text):\n",
    "    # Define a regex pattern for emojis\n",
    "    emoji_pattern = re.compile(\n",
    "        \"[\"\n",
    "        \"\\U0001F600-\\U0001F64F\"  # emoticons\n",
    "        \"\\U0001F300-\\U0001F5FF\"  # symbols & pictographs\n",
    "        \"\\U0001F680-\\U0001F6FF\"  # transport & map symbols\n",
    "        \"\\U0001F700-\\U0001F77F\"  # alchemical symbols\n",
    "        \"\\U0001F780-\\U0001F7FF\"  # Geometric Shapes Extended\n",
    "        \"\\U0001F800-\\U0001F8FF\"  # Supplemental Arrows-C\n",
    "        \"\\U0001F900-\\U0001F9FF\"  # Supplemental Symbols and Pictographs\n",
    "        \"\\U0001FA00-\\U0001FA6F\"  # Chess Symbols\n",
    "        \"\\U00002702-\\U000027B0\"  # Dingbats\n",
    "        \"\\U000024C2-\\U0001F251\"\n",
    "        \"]+\",\n",
    "        flags=re.UNICODE\n",
    "    )\n",
    "    return emoji_pattern.sub(r'', text)  # Remove emojis\n"
   ]
  },
  {
   "cell_type": "code",
   "execution_count": 5,
   "metadata": {},
   "outputs": [
    {
     "name": "stdout",
     "output_type": "stream",
     "text": [
      "0        \\n የትኩስ ውሃ መያዢያ ከረጢት\\n 1.8 ሊትር ውሃ ይይዛል\\n ሙ...\n",
      "1    Special Base for Refrigerators\\n\\nየፍሪጅ ማስቀመጫ\\n...\n",
      "2     Door Step Shoe Rack\\n\\n የበር ስር ጫማ ማስቀመጫ\\n ወፍራ...\n",
      "3      \\n\\n ዘመናዊ በኤሌክትሮኒክስ የሚሰራ ሚዛን\\nእስከ 50 ኪሎ ይመዝና...\n",
      "4       \\n\\n ቦርጭ የሚሰበስብ\\nየቦርጭ ስብ የሚያቃጥል \\n ማራኪ የሰውነ...\n",
      "Name: cleaned_message, dtype: object\n"
     ]
    }
   ],
   "source": [
    "#Apply the Function to THE DataFrame\n",
    "df['cleaned_message'] = df['message'].apply(remove_emojis)\n",
    "\n",
    "# Check the results\n",
    "print(df['cleaned_message'].head())\n"
   ]
  },
  {
   "cell_type": "code",
   "execution_count": 6,
   "metadata": {},
   "outputs": [
    {
     "data": {
      "text/html": [
       "<div>\n",
       "<style scoped>\n",
       "    .dataframe tbody tr th:only-of-type {\n",
       "        vertical-align: middle;\n",
       "    }\n",
       "\n",
       "    .dataframe tbody tr th {\n",
       "        vertical-align: top;\n",
       "    }\n",
       "\n",
       "    .dataframe thead th {\n",
       "        text-align: right;\n",
       "    }\n",
       "</style>\n",
       "<table border=\"1\" class=\"dataframe\">\n",
       "  <thead>\n",
       "    <tr style=\"text-align: right;\">\n",
       "      <th></th>\n",
       "      <th>date</th>\n",
       "      <th>sender_id</th>\n",
       "      <th>message</th>\n",
       "      <th>cleaned_message</th>\n",
       "    </tr>\n",
       "  </thead>\n",
       "  <tbody>\n",
       "    <tr>\n",
       "      <th>0</th>\n",
       "      <td>2024-10-01 10:39:48+00:00</td>\n",
       "      <td>-1001370292088</td>\n",
       "      <td>📣 🔠🔠🔠 🔠🔠🔠🔠🔠  🔠🔠🔠\\n✔️ የትኩስ ውሃ መያዢያ ከረጢት\\n✔️ 1.8...</td>\n",
       "      <td>\\n የትኩስ ውሃ መያዢያ ከረጢት\\n 1.8 ሊትር ውሃ ይይዛል\\n ሙ...</td>\n",
       "    </tr>\n",
       "    <tr>\n",
       "      <th>1</th>\n",
       "      <td>2024-09-30 13:19:34+00:00</td>\n",
       "      <td>-1001370292088</td>\n",
       "      <td>📣Special Base for Refrigerators\\n\\n✔️የፍሪጅ ማስቀመ...</td>\n",
       "      <td>Special Base for Refrigerators\\n\\nየፍሪጅ ማስቀመጫ\\n...</td>\n",
       "    </tr>\n",
       "    <tr>\n",
       "      <th>2</th>\n",
       "      <td>2024-09-30 11:11:45+00:00</td>\n",
       "      <td>-1001370292088</td>\n",
       "      <td>📣 Door Step Shoe Rack\\n\\n✔️ የበር ስር ጫማ ማስቀመጫ\\n✔...</td>\n",
       "      <td>Door Step Shoe Rack\\n\\n የበር ስር ጫማ ማስቀመጫ\\n ወፍራ...</td>\n",
       "    </tr>\n",
       "    <tr>\n",
       "      <th>3</th>\n",
       "      <td>2024-09-29 15:35:03+00:00</td>\n",
       "      <td>-1001370292088</td>\n",
       "      <td>📣 🔠🔠🔠🔠🔠🔠🔠 🔠🔠🔠🔠🔠\\n\\n✔️ ዘመናዊ በኤሌክትሮኒክስ የሚሰራ ሚዛን\\...</td>\n",
       "      <td>\\n\\n ዘመናዊ በኤሌክትሮኒክስ የሚሰራ ሚዛን\\nእስከ 50 ኪሎ ይመዝና...</td>\n",
       "    </tr>\n",
       "    <tr>\n",
       "      <th>4</th>\n",
       "      <td>2024-09-29 15:13:37+00:00</td>\n",
       "      <td>-1001370292088</td>\n",
       "      <td>📣 🔠🔠🔠🔠🔠 🔠🔠🔠🔠🔠🔠🔠🔠 🔠🔠🔠🔠🔠🔠\\n\\n✔️ ቦርጭ የሚሰበስብ\\n✔️የቦ...</td>\n",
       "      <td>\\n\\n ቦርጭ የሚሰበስብ\\nየቦርጭ ስብ የሚያቃጥል \\n ማራኪ የሰውነ...</td>\n",
       "    </tr>\n",
       "  </tbody>\n",
       "</table>\n",
       "</div>"
      ],
      "text/plain": [
       "                       date      sender_id  \\\n",
       "0 2024-10-01 10:39:48+00:00 -1001370292088   \n",
       "1 2024-09-30 13:19:34+00:00 -1001370292088   \n",
       "2 2024-09-30 11:11:45+00:00 -1001370292088   \n",
       "3 2024-09-29 15:35:03+00:00 -1001370292088   \n",
       "4 2024-09-29 15:13:37+00:00 -1001370292088   \n",
       "\n",
       "                                             message  \\\n",
       "0  📣 🔠🔠🔠 🔠🔠🔠🔠🔠  🔠🔠🔠\\n✔️ የትኩስ ውሃ መያዢያ ከረጢት\\n✔️ 1.8...   \n",
       "1  📣Special Base for Refrigerators\\n\\n✔️የፍሪጅ ማስቀመ...   \n",
       "2  📣 Door Step Shoe Rack\\n\\n✔️ የበር ስር ጫማ ማስቀመጫ\\n✔...   \n",
       "3  📣 🔠🔠🔠🔠🔠🔠🔠 🔠🔠🔠🔠🔠\\n\\n✔️ ዘመናዊ በኤሌክትሮኒክስ የሚሰራ ሚዛን\\...   \n",
       "4  📣 🔠🔠🔠🔠🔠 🔠🔠🔠🔠🔠🔠🔠🔠 🔠🔠🔠🔠🔠🔠\\n\\n✔️ ቦርጭ የሚሰበስብ\\n✔️የቦ...   \n",
       "\n",
       "                                     cleaned_message  \n",
       "0      \\n የትኩስ ውሃ መያዢያ ከረጢት\\n 1.8 ሊትር ውሃ ይይዛል\\n ሙ...  \n",
       "1  Special Base for Refrigerators\\n\\nየፍሪጅ ማስቀመጫ\\n...  \n",
       "2   Door Step Shoe Rack\\n\\n የበር ስር ጫማ ማስቀመጫ\\n ወፍራ...  \n",
       "3    \\n\\n ዘመናዊ በኤሌክትሮኒክስ የሚሰራ ሚዛን\\nእስከ 50 ኪሎ ይመዝና...  \n",
       "4     \\n\\n ቦርጭ የሚሰበስብ\\nየቦርጭ ስብ የሚያቃጥል \\n ማራኪ የሰውነ...  "
      ]
     },
     "execution_count": 6,
     "metadata": {},
     "output_type": "execute_result"
    }
   ],
   "source": [
    "df.head()"
   ]
  },
  {
   "cell_type": "code",
   "execution_count": 7,
   "metadata": {},
   "outputs": [],
   "source": [
    "df1= df.drop(['message'],axis ='columns')"
   ]
  },
  {
   "cell_type": "code",
   "execution_count": 8,
   "metadata": {},
   "outputs": [
    {
     "data": {
      "text/html": [
       "<div>\n",
       "<style scoped>\n",
       "    .dataframe tbody tr th:only-of-type {\n",
       "        vertical-align: middle;\n",
       "    }\n",
       "\n",
       "    .dataframe tbody tr th {\n",
       "        vertical-align: top;\n",
       "    }\n",
       "\n",
       "    .dataframe thead th {\n",
       "        text-align: right;\n",
       "    }\n",
       "</style>\n",
       "<table border=\"1\" class=\"dataframe\">\n",
       "  <thead>\n",
       "    <tr style=\"text-align: right;\">\n",
       "      <th></th>\n",
       "      <th>date</th>\n",
       "      <th>sender_id</th>\n",
       "      <th>cleaned_message</th>\n",
       "    </tr>\n",
       "  </thead>\n",
       "  <tbody>\n",
       "    <tr>\n",
       "      <th>0</th>\n",
       "      <td>2024-10-01 10:39:48+00:00</td>\n",
       "      <td>-1001370292088</td>\n",
       "      <td>\\n የትኩስ ውሃ መያዢያ ከረጢት\\n 1.8 ሊትር ውሃ ይይዛል\\n ሙ...</td>\n",
       "    </tr>\n",
       "    <tr>\n",
       "      <th>1</th>\n",
       "      <td>2024-09-30 13:19:34+00:00</td>\n",
       "      <td>-1001370292088</td>\n",
       "      <td>Special Base for Refrigerators\\n\\nየፍሪጅ ማስቀመጫ\\n...</td>\n",
       "    </tr>\n",
       "    <tr>\n",
       "      <th>2</th>\n",
       "      <td>2024-09-30 11:11:45+00:00</td>\n",
       "      <td>-1001370292088</td>\n",
       "      <td>Door Step Shoe Rack\\n\\n የበር ስር ጫማ ማስቀመጫ\\n ወፍራ...</td>\n",
       "    </tr>\n",
       "    <tr>\n",
       "      <th>3</th>\n",
       "      <td>2024-09-29 15:35:03+00:00</td>\n",
       "      <td>-1001370292088</td>\n",
       "      <td>\\n\\n ዘመናዊ በኤሌክትሮኒክስ የሚሰራ ሚዛን\\nእስከ 50 ኪሎ ይመዝና...</td>\n",
       "    </tr>\n",
       "    <tr>\n",
       "      <th>4</th>\n",
       "      <td>2024-09-29 15:13:37+00:00</td>\n",
       "      <td>-1001370292088</td>\n",
       "      <td>\\n\\n ቦርጭ የሚሰበስብ\\nየቦርጭ ስብ የሚያቃጥል \\n ማራኪ የሰውነ...</td>\n",
       "    </tr>\n",
       "  </tbody>\n",
       "</table>\n",
       "</div>"
      ],
      "text/plain": [
       "                       date      sender_id  \\\n",
       "0 2024-10-01 10:39:48+00:00 -1001370292088   \n",
       "1 2024-09-30 13:19:34+00:00 -1001370292088   \n",
       "2 2024-09-30 11:11:45+00:00 -1001370292088   \n",
       "3 2024-09-29 15:35:03+00:00 -1001370292088   \n",
       "4 2024-09-29 15:13:37+00:00 -1001370292088   \n",
       "\n",
       "                                     cleaned_message  \n",
       "0      \\n የትኩስ ውሃ መያዢያ ከረጢት\\n 1.8 ሊትር ውሃ ይይዛል\\n ሙ...  \n",
       "1  Special Base for Refrigerators\\n\\nየፍሪጅ ማስቀመጫ\\n...  \n",
       "2   Door Step Shoe Rack\\n\\n የበር ስር ጫማ ማስቀመጫ\\n ወፍራ...  \n",
       "3    \\n\\n ዘመናዊ በኤሌክትሮኒክስ የሚሰራ ሚዛን\\nእስከ 50 ኪሎ ይመዝና...  \n",
       "4     \\n\\n ቦርጭ የሚሰበስብ\\nየቦርጭ ስብ የሚያቃጥል \\n ማራኪ የሰውነ...  "
      ]
     },
     "execution_count": 8,
     "metadata": {},
     "output_type": "execute_result"
    }
   ],
   "source": [
    "df1.head()"
   ]
  },
  {
   "cell_type": "code",
   "execution_count": 9,
   "metadata": {},
   "outputs": [
    {
     "data": {
      "text/html": [
       "<div>\n",
       "<style scoped>\n",
       "    .dataframe tbody tr th:only-of-type {\n",
       "        vertical-align: middle;\n",
       "    }\n",
       "\n",
       "    .dataframe tbody tr th {\n",
       "        vertical-align: top;\n",
       "    }\n",
       "\n",
       "    .dataframe thead th {\n",
       "        text-align: right;\n",
       "    }\n",
       "</style>\n",
       "<table border=\"1\" class=\"dataframe\">\n",
       "  <thead>\n",
       "    <tr style=\"text-align: right;\">\n",
       "      <th></th>\n",
       "      <th>date</th>\n",
       "      <th>sender_id</th>\n",
       "      <th>cleaned_message</th>\n",
       "    </tr>\n",
       "  </thead>\n",
       "  <tbody>\n",
       "    <tr>\n",
       "      <th>367</th>\n",
       "      <td>2024-07-04 11:19:25+00:00</td>\n",
       "      <td>-1001370292088</td>\n",
       "      <td>ኦሪጅናል ዕቃ\\n\\nበርካታ ደንበኞቻችን የገዙት፤ የወደዱት\\nዕቃ \\nየሽን...</td>\n",
       "    </tr>\n",
       "    <tr>\n",
       "      <th>136</th>\n",
       "      <td>2024-08-28 15:03:31+00:00</td>\n",
       "      <td>-1001370292088</td>\n",
       "      <td>3  1   \\n\\nኦሪጅናል የጁስ መፍጪያ\\n300 \\n ማይካ ጆግ ቢወድቅ ...</td>\n",
       "    </tr>\n",
       "    <tr>\n",
       "      <th>99</th>\n",
       "      <td>2024-09-06 12:55:07+00:00</td>\n",
       "      <td>-1001370292088</td>\n",
       "      <td>የፒዛ መጋገሪያ \\n ጥብሳ ጥብሶችንም የሚያበስሉበት\\n 42 ስፋት\\n የሃ...</td>\n",
       "    </tr>\n",
       "    <tr>\n",
       "      <th>2908</th>\n",
       "      <td>2022-08-06 14:30:57+00:00</td>\n",
       "      <td>-1001370292088</td>\n",
       "      <td>የህፃናት የሻወር ኮፍያ\\nየጆሮ መሸፈኛ ያለው\\n 200 ብር\\n\\n 0904...</td>\n",
       "    </tr>\n",
       "    <tr>\n",
       "      <th>548</th>\n",
       "      <td>2024-05-24 06:36:30+00:00</td>\n",
       "      <td>-1001370292088</td>\n",
       "      <td>የመመገቢያ ሳህን\\n\\n ከማይካ የሰራ\\n ማራኪ ውበትና አጨራረስ\\n ወፍራ...</td>\n",
       "    </tr>\n",
       "  </tbody>\n",
       "</table>\n",
       "</div>"
      ],
      "text/plain": [
       "                          date      sender_id  \\\n",
       "367  2024-07-04 11:19:25+00:00 -1001370292088   \n",
       "136  2024-08-28 15:03:31+00:00 -1001370292088   \n",
       "99   2024-09-06 12:55:07+00:00 -1001370292088   \n",
       "2908 2022-08-06 14:30:57+00:00 -1001370292088   \n",
       "548  2024-05-24 06:36:30+00:00 -1001370292088   \n",
       "\n",
       "                                        cleaned_message  \n",
       "367   ኦሪጅናል ዕቃ\\n\\nበርካታ ደንበኞቻችን የገዙት፤ የወደዱት\\nዕቃ \\nየሽን...  \n",
       "136   3  1   \\n\\nኦሪጅናል የጁስ መፍጪያ\\n300 \\n ማይካ ጆግ ቢወድቅ ...  \n",
       "99    የፒዛ መጋገሪያ \\n ጥብሳ ጥብሶችንም የሚያበስሉበት\\n 42 ስፋት\\n የሃ...  \n",
       "2908  የህፃናት የሻወር ኮፍያ\\nየጆሮ መሸፈኛ ያለው\\n 200 ብር\\n\\n 0904...  \n",
       "548   የመመገቢያ ሳህን\\n\\n ከማይካ የሰራ\\n ማራኪ ውበትና አጨራረስ\\n ወፍራ...  "
      ]
     },
     "execution_count": 9,
     "metadata": {},
     "output_type": "execute_result"
    }
   ],
   "source": [
    "import pandas as pd\n",
    "import re\n",
    "\n",
    "# Function to remove English words and emojis, but keep numbers (prices)\n",
    "def clean_amharic_text(text):\n",
    "    # This regex keeps Amharic characters, whitespace, and digits (0-9)\n",
    "    cleaned_text = re.sub(r'[^\\u1200-\\u137F\\s0-9]', '', text)\n",
    "    return cleaned_text.strip()\n",
    "\n",
    "# Apply the function to the 'cleaned_message' column\n",
    "df1['cleaned_message'] = df1['cleaned_message'].apply(clean_amharic_text)\n",
    "\n",
    "# Filter out rows where the cleaned message is empty\n",
    "df_cleaned = df1[df1['cleaned_message'] != '']\n",
    "\n",
    "# Sample 500 rows if there are more than 500\n",
    "if len(df_cleaned) > 500:\n",
    "    df_sampled = df_cleaned.sample(n=500, random_state=1)  # random_state for reproducibility\n",
    "else:\n",
    "    df_sampled = df_cleaned\n",
    "\n",
    "# Display the first few rows to check\n",
    "df_sampled.head()\n"
   ]
  },
  {
   "cell_type": "code",
   "execution_count": 10,
   "metadata": {},
   "outputs": [
    {
     "name": "stdout",
     "output_type": "stream",
     "text": [
      "Saved 500 cleaned rows to 'cleaned_sample.csv'.\n"
     ]
    }
   ],
   "source": [
    "# Save the cleaned sample to a new CSV file\n",
    "df_sampled.to_csv(r'C:\\Users\\Yibabe\\Desktop\\10academyAIMweek-5\\data\\cleaned_amharic_newdata.csv', index=False)\n",
    "\n",
    "print(f\"Saved {len(df_sampled)} cleaned rows to 'cleaned_sample.csv'.\") \n"
   ]
  },
  {
   "cell_type": "code",
   "execution_count": 11,
   "metadata": {},
   "outputs": [
    {
     "data": {
      "text/html": [
       "<div>\n",
       "<style scoped>\n",
       "    .dataframe tbody tr th:only-of-type {\n",
       "        vertical-align: middle;\n",
       "    }\n",
       "\n",
       "    .dataframe tbody tr th {\n",
       "        vertical-align: top;\n",
       "    }\n",
       "\n",
       "    .dataframe thead th {\n",
       "        text-align: right;\n",
       "    }\n",
       "</style>\n",
       "<table border=\"1\" class=\"dataframe\">\n",
       "  <thead>\n",
       "    <tr style=\"text-align: right;\">\n",
       "      <th></th>\n",
       "      <th>date</th>\n",
       "      <th>sender_id</th>\n",
       "      <th>cleaned_message</th>\n",
       "    </tr>\n",
       "  </thead>\n",
       "  <tbody>\n",
       "    <tr>\n",
       "      <th>367</th>\n",
       "      <td>2024-07-04 11:19:25+00:00</td>\n",
       "      <td>-1001370292088</td>\n",
       "      <td>ኦሪጅናል ዕቃ\\n\\nበርካታ ደንበኞቻችን የገዙት፤ የወደዱት\\nዕቃ \\nየሽን...</td>\n",
       "    </tr>\n",
       "    <tr>\n",
       "      <th>136</th>\n",
       "      <td>2024-08-28 15:03:31+00:00</td>\n",
       "      <td>-1001370292088</td>\n",
       "      <td>3  1   \\n\\nኦሪጅናል የጁስ መፍጪያ\\n300 \\n ማይካ ጆግ ቢወድቅ ...</td>\n",
       "    </tr>\n",
       "    <tr>\n",
       "      <th>99</th>\n",
       "      <td>2024-09-06 12:55:07+00:00</td>\n",
       "      <td>-1001370292088</td>\n",
       "      <td>የፒዛ መጋገሪያ \\n ጥብሳ ጥብሶችንም የሚያበስሉበት\\n 42 ስፋት\\n የሃ...</td>\n",
       "    </tr>\n",
       "    <tr>\n",
       "      <th>2908</th>\n",
       "      <td>2022-08-06 14:30:57+00:00</td>\n",
       "      <td>-1001370292088</td>\n",
       "      <td>የህፃናት የሻወር ኮፍያ\\nየጆሮ መሸፈኛ ያለው\\n 200 ብር\\n\\n 0904...</td>\n",
       "    </tr>\n",
       "    <tr>\n",
       "      <th>548</th>\n",
       "      <td>2024-05-24 06:36:30+00:00</td>\n",
       "      <td>-1001370292088</td>\n",
       "      <td>የመመገቢያ ሳህን\\n\\n ከማይካ የሰራ\\n ማራኪ ውበትና አጨራረስ\\n ወፍራ...</td>\n",
       "    </tr>\n",
       "  </tbody>\n",
       "</table>\n",
       "</div>"
      ],
      "text/plain": [
       "                          date      sender_id  \\\n",
       "367  2024-07-04 11:19:25+00:00 -1001370292088   \n",
       "136  2024-08-28 15:03:31+00:00 -1001370292088   \n",
       "99   2024-09-06 12:55:07+00:00 -1001370292088   \n",
       "2908 2022-08-06 14:30:57+00:00 -1001370292088   \n",
       "548  2024-05-24 06:36:30+00:00 -1001370292088   \n",
       "\n",
       "                                        cleaned_message  \n",
       "367   ኦሪጅናል ዕቃ\\n\\nበርካታ ደንበኞቻችን የገዙት፤ የወደዱት\\nዕቃ \\nየሽን...  \n",
       "136   3  1   \\n\\nኦሪጅናል የጁስ መፍጪያ\\n300 \\n ማይካ ጆግ ቢወድቅ ...  \n",
       "99    የፒዛ መጋገሪያ \\n ጥብሳ ጥብሶችንም የሚያበስሉበት\\n 42 ስፋት\\n የሃ...  \n",
       "2908  የህፃናት የሻወር ኮፍያ\\nየጆሮ መሸፈኛ ያለው\\n 200 ብር\\n\\n 0904...  \n",
       "548   የመመገቢያ ሳህን\\n\\n ከማይካ የሰራ\\n ማራኪ ውበትና አጨራረስ\\n ወፍራ...  "
      ]
     },
     "execution_count": 11,
     "metadata": {},
     "output_type": "execute_result"
    }
   ],
   "source": [
    "df_sampled.head()"
   ]
  }
 ],
 "metadata": {
  "kernelspec": {
   "display_name": "env",
   "language": "python",
   "name": "python3"
  },
  "language_info": {
   "codemirror_mode": {
    "name": "ipython",
    "version": 3
   },
   "file_extension": ".py",
   "mimetype": "text/x-python",
   "name": "python",
   "nbconvert_exporter": "python",
   "pygments_lexer": "ipython3",
   "version": "3.12.5"
  }
 },
 "nbformat": 4,
 "nbformat_minor": 2
}
