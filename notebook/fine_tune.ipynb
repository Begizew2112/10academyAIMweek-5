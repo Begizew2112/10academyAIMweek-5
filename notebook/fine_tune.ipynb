{
 "cells": [
  {
   "cell_type": "code",
   "execution_count": 1,
   "metadata": {},
   "outputs": [
    {
     "name": "stderr",
     "output_type": "stream",
     "text": [
      "c:\\Users\\Yibabe\\Desktop\\10academyAIMweek-5\\env\\Lib\\site-packages\\tqdm\\auto.py:21: TqdmWarning: IProgress not found. Please update jupyter and ipywidgets. See https://ipywidgets.readthedocs.io/en/stable/user_install.html\n",
      "  from .autonotebook import tqdm as notebook_tqdm\n",
      "c:\\Users\\Yibabe\\Desktop\\10academyAIMweek-5\\env\\Lib\\site-packages\\transformers\\tokenization_utils_base.py:1617: FutureWarning: `clean_up_tokenization_spaces` was not set. It will be set to `True` by default. This behavior will be deprecated in transformers v4.45, and will be then set to `False` by default. For more details check this issue: https://github.com/huggingface/transformers/issues/31884\n",
      "  warnings.warn(\n"
     ]
    }
   ],
   "source": [
    "from transformers import AutoTokenizer\n",
    "\n",
    "# Load XLM-Roberta tokenizer\n",
    "xlm_model = \"xlm-roberta-base\"\n",
    "xlm_tokenizer = AutoTokenizer.from_pretrained(xlm_model)\n"
   ]
  },
  {
   "cell_type": "code",
   "execution_count": 4,
   "metadata": {},
   "outputs": [
    {
     "name": "stdout",
     "output_type": "stream",
     "text": [
      "Tokens: ['▁አማርኛ', '▁ቋንቋ', '▁እጅግ', '▁በጣም', '▁ጥሩ', '▁ነው።']\n"
     ]
    }
   ],
   "source": [
    "# Example Amharic sentence\n",
    "amharic_text = \"አማርኛ ቋንቋ እጅግ በጣም ጥሩ ነው።\"\n",
    "\n",
    "# Tokenize the Amharic sentence\n",
    "tokens = xlm_tokenizer.tokenize(amharic_text)\n",
    "\n",
    "print(\"Tokens:\", tokens)\n",
    "\n"
   ]
  },
  {
   "cell_type": "code",
   "execution_count": 3,
   "metadata": {},
   "outputs": [
    {
     "name": "stdout",
     "output_type": "stream",
     "text": [
      "Input IDs: [129050, 87917, 70912, 36059, 83144, 7914]\n"
     ]
    }
   ],
   "source": [
    "# Convert tokens to input IDs\n",
    "input_ids = xlm_tokenizer.convert_tokens_to_ids(tokens)\n",
    "\n",
    "print(\"Input IDs:\", input_ids)"
   ]
  },
  {
   "cell_type": "code",
   "execution_count": 5,
   "metadata": {},
   "outputs": [
    {
     "name": "stdout",
     "output_type": "stream",
     "text": [
      "Input IDs: tensor([[     0, 129050,  87917,  70912,  36059,  83144,   7914,      2]])\n",
      "Attention Mask: tensor([[1, 1, 1, 1, 1, 1, 1, 1]])\n"
     ]
    }
   ],
   "source": [
    "# Prepare the input for the model (including attention masks and padding)\n",
    "inputs = xlm_tokenizer(amharic_text, return_tensors=\"pt\", padding=True, truncation=True)\n",
    "\n",
    "print(\"Input IDs:\", inputs['input_ids'])\n",
    "print(\"Attention Mask:\", inputs['attention_mask'])\n"
   ]
  },
  {
   "cell_type": "code",
   "execution_count": 6,
   "metadata": {},
   "outputs": [
    {
     "name": "stderr",
     "output_type": "stream",
     "text": [
      "Some weights of XLMRobertaForSequenceClassification were not initialized from the model checkpoint at xlm-roberta-base and are newly initialized: ['classifier.dense.bias', 'classifier.dense.weight', 'classifier.out_proj.bias', 'classifier.out_proj.weight']\n",
      "You should probably TRAIN this model on a down-stream task to be able to use it for predictions and inference.\n"
     ]
    },
    {
     "name": "stdout",
     "output_type": "stream",
     "text": [
      "Logits: tensor([[-0.3776,  0.2017, -0.3907]], grad_fn=<AddmmBackward0>)\n"
     ]
    }
   ],
   "source": [
    "from transformers import AutoModelForSequenceClassification\n",
    "\n",
    "# Load the XLM-Roberta model for sequence classification (can be adjusted for NER)\n",
    "model = AutoModelForSequenceClassification.from_pretrained(xlm_model, num_labels=3)\n",
    "\n",
    "# Get model output\n",
    "outputs = model(**inputs)\n",
    "\n",
    "# Logits (raw model predictions)\n",
    "logits = outputs.logits\n",
    "print(\"Logits:\", logits)\n"
   ]
  },
  {
   "cell_type": "code",
   "execution_count": 7,
   "metadata": {},
   "outputs": [
    {
     "name": "stderr",
     "output_type": "stream",
     "text": [
      "Some weights of XLMRobertaForTokenClassification were not initialized from the model checkpoint at xlm-roberta-base and are newly initialized: ['classifier.bias', 'classifier.weight']\n",
      "You should probably TRAIN this model on a down-stream task to be able to use it for predictions and inference.\n"
     ]
    },
    {
     "name": "stdout",
     "output_type": "stream",
     "text": [
      "Logits for tokens: tensor([[[-0.5625,  0.6909, -0.0972],\n",
      "         [-0.5691,  0.3497, -0.0522],\n",
      "         [-0.6140,  0.2838, -0.0574],\n",
      "         [-0.4983,  0.4948, -0.0401],\n",
      "         [-0.5481,  0.4104,  0.0268],\n",
      "         [-0.5108,  0.4200, -0.0450],\n",
      "         [-0.5517,  0.3558, -0.0216],\n",
      "         [-0.5647,  0.6419, -0.0750]]], grad_fn=<ViewBackward0>)\n"
     ]
    }
   ],
   "source": [
    "from transformers import AutoModelForTokenClassification\n",
    "\n",
    "# Load the XLM-Roberta model for NER\n",
    "model = AutoModelForTokenClassification.from_pretrained(xlm_model, num_labels=3)\n",
    "\n",
    "# Get model output\n",
    "outputs = model(**inputs)\n",
    "\n",
    "# Logits for each token\n",
    "logits = outputs.logits\n",
    "print(\"Logits for tokens:\", logits)\n"
   ]
  },
  {
   "cell_type": "code",
   "execution_count": 12,
   "metadata": {},
   "outputs": [
    {
     "name": "stdout",
     "output_type": "stream",
     "text": [
      "Collecting langdetect\n",
      "  Downloading langdetect-1.0.9.tar.gz (981 kB)\n",
      "     ---------------------------------------- 0.0/981.5 kB ? eta -:--:--\n",
      "     ---------------------------------------- 0.0/981.5 kB ? eta -:--:--\n",
      "     ---------------------------------------- 0.0/981.5 kB ? eta -:--:--\n",
      "     ---------- ----------------------------- 262.1/981.5 kB ? eta -:--:--\n",
      "     ---------- ----------------------------- 262.1/981.5 kB ? eta -:--:--\n",
      "     ------------------- ---------------- 524.3/981.5 kB 762.0 kB/s eta 0:00:01\n",
      "     ---------------------------- ------- 786.4/981.5 kB 762.0 kB/s eta 0:00:01\n",
      "     ---------------------------- ------- 786.4/981.5 kB 762.0 kB/s eta 0:00:01\n",
      "     ---------------------------- ------- 786.4/981.5 kB 762.0 kB/s eta 0:00:01\n",
      "     ------------------------------------ 981.5/981.5 kB 605.5 kB/s eta 0:00:00\n",
      "  Preparing metadata (setup.py): started\n",
      "  Preparing metadata (setup.py): finished with status 'done'\n",
      "Requirement already satisfied: six in c:\\users\\yibabe\\desktop\\10academyaimweek-5\\env\\lib\\site-packages (from langdetect) (1.16.0)\n",
      "Building wheels for collected packages: langdetect\n",
      "  Building wheel for langdetect (setup.py): started\n",
      "  Building wheel for langdetect (setup.py): finished with status 'done'\n",
      "  Created wheel for langdetect: filename=langdetect-1.0.9-py3-none-any.whl size=993251 sha256=f28fea7e7e7a7b86cece4dbc1c1481f7156900a188338f35547dc94ab9221919\n",
      "  Stored in directory: c:\\users\\yibabe\\appdata\\local\\pip\\cache\\wheels\\c1\\67\\88\\e844b5b022812e15a52e4eaa38a1e709e99f06f6639d7e3ba7\n",
      "Successfully built langdetect\n",
      "Installing collected packages: langdetect\n",
      "Successfully installed langdetect-1.0.9\n"
     ]
    }
   ],
   "source": [
    "!pip install langdetect\n"
   ]
  }
 ],
 "metadata": {
  "kernelspec": {
   "display_name": "env",
   "language": "python",
   "name": "python3"
  },
  "language_info": {
   "codemirror_mode": {
    "name": "ipython",
    "version": 3
   },
   "file_extension": ".py",
   "mimetype": "text/x-python",
   "name": "python",
   "nbconvert_exporter": "python",
   "pygments_lexer": "ipython3",
   "version": "3.12.5"
  }
 },
 "nbformat": 4,
 "nbformat_minor": 2
}
