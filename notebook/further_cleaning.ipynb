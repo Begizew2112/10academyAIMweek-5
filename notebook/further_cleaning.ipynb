{
 "cells": [
  {
   "cell_type": "code",
   "execution_count": 1,
   "metadata": {},
   "outputs": [],
   "source": [
    "import pandas as pd\n",
    "\n",
    "# Replace 'file_path.csv' with the actual path to your saved CSV file\n",
    "df = pd.read_csv(r'C:\\Users\\Yibabe\\Desktop\\10academyAIMweek-5\\data\\labeled_messages_output.csv')\n",
    "\n",
    "\n",
    "\n"
   ]
  },
  {
   "cell_type": "code",
   "execution_count": 2,
   "metadata": {},
   "outputs": [
    {
     "data": {
      "text/html": [
       "<div>\n",
       "<style scoped>\n",
       "    .dataframe tbody tr th:only-of-type {\n",
       "        vertical-align: middle;\n",
       "    }\n",
       "\n",
       "    .dataframe tbody tr th {\n",
       "        vertical-align: top;\n",
       "    }\n",
       "\n",
       "    .dataframe thead th {\n",
       "        text-align: right;\n",
       "    }\n",
       "</style>\n",
       "<table border=\"1\" class=\"dataframe\">\n",
       "  <thead>\n",
       "    <tr style=\"text-align: right;\">\n",
       "      <th></th>\n",
       "      <th>cleaned_message</th>\n",
       "      <th>Labeled_Message</th>\n",
       "    </tr>\n",
       "  </thead>\n",
       "  <tbody>\n",
       "    <tr>\n",
       "      <th>0</th>\n",
       "      <td>Car Aromatherapy Solar Vortex\\n\\n ይሄንን t.me/M...</td>\n",
       "      <td>Car B-PRODUCT\\nAromatherapy I-PRODUCT\\nSolar I...</td>\n",
       "    </tr>\n",
       "    <tr>\n",
       "      <th>1</th>\n",
       "      <td>Car Aromatherapy Solar Vortex\\n\\n የመኪና መዓዛ \\n...</td>\n",
       "      <td>Car B-PRODUCT\\nAromatherapy I-PRODUCT\\nSolar I...</td>\n",
       "    </tr>\n",
       "    <tr>\n",
       "      <th>2</th>\n",
       "      <td>\\n GW HAIR DRYER/Blower\\n\\n የፀጉር ማድረቂያ ፎን\\n60...</td>\n",
       "      <td>GW O\\nHAIR O\\nDRYER/Blower O\\nየፀጉር O\\nማድረቂያ O\\...</td>\n",
       "    </tr>\n",
       "    <tr>\n",
       "      <th>3</th>\n",
       "      <td>2 in 1 Porcelain  Dessert Bowel\\n\\n የሰላጣ እና የ...</td>\n",
       "      <td>2 B-PRODUCT\\nin I-PRODUCT\\n1 I-PRODUCT\\nPorcel...</td>\n",
       "    </tr>\n",
       "    <tr>\n",
       "      <th>4</th>\n",
       "      <td>Plastic And Metal Cubic Cloth Cabinet\\n\\n ዘመና...</td>\n",
       "      <td>Plastic B-PRODUCT\\nAnd I-PRODUCT\\nMetal I-PROD...</td>\n",
       "    </tr>\n",
       "  </tbody>\n",
       "</table>\n",
       "</div>"
      ],
      "text/plain": [
       "                                     cleaned_message  \\\n",
       "0   Car Aromatherapy Solar Vortex\\n\\n ይሄንን t.me/M...   \n",
       "1   Car Aromatherapy Solar Vortex\\n\\n የመኪና መዓዛ \\n...   \n",
       "2   \\n GW HAIR DRYER/Blower\\n\\n የፀጉር ማድረቂያ ፎን\\n60...   \n",
       "3   2 in 1 Porcelain  Dessert Bowel\\n\\n የሰላጣ እና የ...   \n",
       "4   Plastic And Metal Cubic Cloth Cabinet\\n\\n ዘመና...   \n",
       "\n",
       "                                     Labeled_Message  \n",
       "0  Car B-PRODUCT\\nAromatherapy I-PRODUCT\\nSolar I...  \n",
       "1  Car B-PRODUCT\\nAromatherapy I-PRODUCT\\nSolar I...  \n",
       "2  GW O\\nHAIR O\\nDRYER/Blower O\\nየፀጉር O\\nማድረቂያ O\\...  \n",
       "3  2 B-PRODUCT\\nin I-PRODUCT\\n1 I-PRODUCT\\nPorcel...  \n",
       "4  Plastic B-PRODUCT\\nAnd I-PRODUCT\\nMetal I-PROD...  "
      ]
     },
     "execution_count": 2,
     "metadata": {},
     "output_type": "execute_result"
    }
   ],
   "source": [
    "df.head()"
   ]
  },
  {
   "cell_type": "code",
   "execution_count": 3,
   "metadata": {},
   "outputs": [],
   "source": [
    "cleaned_data = df.drop(['cleaned_message'],axis='columns')"
   ]
  },
  {
   "cell_type": "code",
   "execution_count": 4,
   "metadata": {},
   "outputs": [
    {
     "data": {
      "text/html": [
       "<div>\n",
       "<style scoped>\n",
       "    .dataframe tbody tr th:only-of-type {\n",
       "        vertical-align: middle;\n",
       "    }\n",
       "\n",
       "    .dataframe tbody tr th {\n",
       "        vertical-align: top;\n",
       "    }\n",
       "\n",
       "    .dataframe thead th {\n",
       "        text-align: right;\n",
       "    }\n",
       "</style>\n",
       "<table border=\"1\" class=\"dataframe\">\n",
       "  <thead>\n",
       "    <tr style=\"text-align: right;\">\n",
       "      <th></th>\n",
       "      <th>Labeled_Message</th>\n",
       "    </tr>\n",
       "  </thead>\n",
       "  <tbody>\n",
       "    <tr>\n",
       "      <th>0</th>\n",
       "      <td>Car B-PRODUCT\\nAromatherapy I-PRODUCT\\nSolar I...</td>\n",
       "    </tr>\n",
       "    <tr>\n",
       "      <th>1</th>\n",
       "      <td>Car B-PRODUCT\\nAromatherapy I-PRODUCT\\nSolar I...</td>\n",
       "    </tr>\n",
       "    <tr>\n",
       "      <th>2</th>\n",
       "      <td>GW O\\nHAIR O\\nDRYER/Blower O\\nየፀጉር O\\nማድረቂያ O\\...</td>\n",
       "    </tr>\n",
       "    <tr>\n",
       "      <th>3</th>\n",
       "      <td>2 B-PRODUCT\\nin I-PRODUCT\\n1 I-PRODUCT\\nPorcel...</td>\n",
       "    </tr>\n",
       "    <tr>\n",
       "      <th>4</th>\n",
       "      <td>Plastic B-PRODUCT\\nAnd I-PRODUCT\\nMetal I-PROD...</td>\n",
       "    </tr>\n",
       "    <tr>\n",
       "      <th>...</th>\n",
       "      <td>...</td>\n",
       "    </tr>\n",
       "    <tr>\n",
       "      <th>4078</th>\n",
       "      <td>2500 B-PRODUCT</td>\n",
       "    </tr>\n",
       "    <tr>\n",
       "      <th>4079</th>\n",
       "      <td>ዋጋ B-PRODUCT\\n2500 I-PRODUCT\\n0983063957 O</td>\n",
       "    </tr>\n",
       "    <tr>\n",
       "      <th>4080</th>\n",
       "      <td>የሙያ B-PRODUCT\\nባለቤት I-PRODUCT\\nመሆን I-PRODUCT\\n...</td>\n",
       "    </tr>\n",
       "    <tr>\n",
       "      <th>4081</th>\n",
       "      <td>ቤትና B-PRODUCT\\nግቢዎን I-PRODUCT\\nእንዲሁም I-PRODUCT...</td>\n",
       "    </tr>\n",
       "    <tr>\n",
       "      <th>4082</th>\n",
       "      <td>ለማዘዝ B-PRODUCT\\nhttps://t.megojomewechiyaeka O</td>\n",
       "    </tr>\n",
       "  </tbody>\n",
       "</table>\n",
       "<p>4083 rows × 1 columns</p>\n",
       "</div>"
      ],
      "text/plain": [
       "                                        Labeled_Message\n",
       "0     Car B-PRODUCT\\nAromatherapy I-PRODUCT\\nSolar I...\n",
       "1     Car B-PRODUCT\\nAromatherapy I-PRODUCT\\nSolar I...\n",
       "2     GW O\\nHAIR O\\nDRYER/Blower O\\nየፀጉር O\\nማድረቂያ O\\...\n",
       "3     2 B-PRODUCT\\nin I-PRODUCT\\n1 I-PRODUCT\\nPorcel...\n",
       "4     Plastic B-PRODUCT\\nAnd I-PRODUCT\\nMetal I-PROD...\n",
       "...                                                 ...\n",
       "4078                                     2500 B-PRODUCT\n",
       "4079         ዋጋ B-PRODUCT\\n2500 I-PRODUCT\\n0983063957 O\n",
       "4080  የሙያ B-PRODUCT\\nባለቤት I-PRODUCT\\nመሆን I-PRODUCT\\n...\n",
       "4081  ቤትና B-PRODUCT\\nግቢዎን I-PRODUCT\\nእንዲሁም I-PRODUCT...\n",
       "4082     ለማዘዝ B-PRODUCT\\nhttps://t.megojomewechiyaeka O\n",
       "\n",
       "[4083 rows x 1 columns]"
      ]
     },
     "execution_count": 4,
     "metadata": {},
     "output_type": "execute_result"
    }
   ],
   "source": [
    "cleaned_data"
   ]
  },
  {
   "cell_type": "code",
   "execution_count": 5,
   "metadata": {},
   "outputs": [
    {
     "name": "stdout",
     "output_type": "stream",
     "text": [
      "Cleaned CSV file saved successfully!\n"
     ]
    }
   ],
   "source": [
    "\n",
    "\n",
    "\n",
    "# Save the cleaned tokenized data to a new CSV file\n",
    "cleaned_data.to_csv(r'C:\\Users\\Yibabe\\Desktop\\10academyAIMweek-5\\data\\cleaned_tokenized_and_labled_data.csv', index=False)\n",
    "\n",
    "print(\"Cleaned CSV file saved successfully!\")\n"
   ]
  },
  {
   "cell_type": "code",
   "execution_count": null,
   "metadata": {},
   "outputs": [],
   "source": []
  },
  {
   "cell_type": "code",
   "execution_count": null,
   "metadata": {},
   "outputs": [],
   "source": []
  }
 ],
 "metadata": {
  "kernelspec": {
   "display_name": "env",
   "language": "python",
   "name": "python3"
  },
  "language_info": {
   "codemirror_mode": {
    "name": "ipython",
    "version": 3
   },
   "file_extension": ".py",
   "mimetype": "text/x-python",
   "name": "python",
   "nbconvert_exporter": "python",
   "pygments_lexer": "ipython3",
   "version": "3.12.5"
  }
 },
 "nbformat": 4,
 "nbformat_minor": 2
}
